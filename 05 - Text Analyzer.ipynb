{
 "cells": [
  {
   "cell_type": "code",
   "execution_count": 2,
   "metadata": {},
   "outputs": [
    {
     "name": "stderr",
     "output_type": "stream",
     "text": [
      "/anaconda3/lib/python3.6/site-packages/sklearn/cross_validation.py:41: DeprecationWarning: This module was deprecated in version 0.18 in favor of the model_selection module into which all the refactored classes and functions are moved. Also note that the interface of the new CV iterators are different from that of this module. This module will be removed in 0.20.\n",
      "  \"This module will be removed in 0.20.\", DeprecationWarning)\n"
     ]
    }
   ],
   "source": [
    "# import libraries\n",
    "import pandas as pd\n",
    "import numpy as np\n",
    "import nltk\n",
    "from sklearn.feature_extraction.text import CountVectorizer\n",
    "from sklearn.cross_validation import train_test_split\n",
    "from sklearn.neighbors import KNeighborsRegressor\n",
    "from sklearn.linear_model import LinearRegression\n",
    "\n",
    "import seaborn as sns\n",
    "import matplotlib.pyplot as plt\n",
    "%matplotlib inline"
   ]
  },
  {
   "cell_type": "code",
   "execution_count": 3,
   "metadata": {},
   "outputs": [],
   "source": [
    "# display complete text in columns\n",
    "pd.set_option('display.max_colwidth', -1)\n",
    "\n",
    "# read the App description dataset\n",
    "\n",
    "descDataSet = pd.read_csv('DataSet/app-store-apple-data-set-10k-apps/appleStore_description.csv')\n",
    "\n",
    "# read the App Store dataset\n",
    "\n",
    "storeDataSet = pd.read_csv('DataSet/app-store-apple-data-set-10k-apps/AppleStore.csv')"
   ]
  },
  {
   "cell_type": "markdown",
   "metadata": {},
   "source": [
    "## What sorts of questions can I answer with text data?\n"
   ]
  },
  {
   "cell_type": "code",
   "execution_count": 4,
   "metadata": {},
   "outputs": [],
   "source": [
    "# Merge the datasets to get the user rating and App description in one dataset\n",
    "AppDataSet = pd.merge(descDataSet, storeDataSet, on=['id', 'track_name', 'size_bytes'])\n",
    "\n",
    "# drop the extra columns\n",
    "AppDataSet.drop('Unnamed: 0', axis=1)\n",
    "\n",
    "# Create a new column \"text_count\" to get the word count from each App description\n",
    "AppDataSet['text_count'] = [len(AppDataSet['app_desc'][each].split()) for each in range(len(AppDataSet))]"
   ]
  },
  {
   "cell_type": "code",
   "execution_count": 5,
   "metadata": {
    "scrolled": false
   },
   "outputs": [
    {
     "data": {
      "image/png": "[encoded data removed]",
      "text/plain": [
       "<matplotlib.figure.Figure at 0x11a7d1828>"
      ]
     },
     "metadata": {},
     "output_type": "display_data"
    }
   ],
   "source": [
    "# Plot the count of words in App description\n",
    "\n",
    "plt.hist(x=AppDataSet['text_count'])\n",
    "plt.title('Number of words of text by count')\n",
    "plt.xlabel('Number of words')\n",
    "plt.ylabel('Count');"
   ]
  },
  {
   "cell_type": "markdown",
   "metadata": {},
   "source": [
    "## Looking at Apps with rating > 4"
   ]
  },
  {
   "cell_type": "code",
   "execution_count": 6,
   "metadata": {},
   "outputs": [],
   "source": [
    "# Get a subset of adatset with the higher user ratings\n",
    "df = AppDataSet[AppDataSet['user_rating'] > 4]\n",
    "\n",
    "# Build a corpus of words\n",
    "corpus = AppDataSet['app_desc']\n",
    "\n",
    "# Instantiate a CountVectorizer\n",
    "cvec = CountVectorizer(stop_words='english', ngram_range=(1, 2))\n",
    "\n",
    "# Fit the vectorizer on our corpus\n",
    "cvec.fit(corpus) \n",
    "\n",
    "# Transform the corpus\n",
    "new_corpus = cvec.transform(corpus)\n",
    "new_corpus # only non zeros are \"saved\" in memory\n",
    " \n",
    "new_corpus.todense()\n",
    "\n",
    "cvec.get_feature_names()\n",
    "\n",
    "pd.DataFrame(new_corpus.todense(), columns=cvec.get_feature_names())\n",
    "\n",
    "# Create a new dataframe using the new corpus and feature names as column\n",
    "df  = pd.DataFrame(new_corpus.todense(),\n",
    "                   columns=cvec.get_feature_names())"
   ]
  },
  {
   "cell_type": "code",
   "execution_count": 7,
   "metadata": {},
   "outputs": [],
   "source": [
    "# Ignore commonly used words in the App description\n",
    "\n",
    "from sklearn.feature_extraction import stop_words\n",
    "\n",
    "cv = CountVectorizer(stop_words='english', min_df=2)\n",
    "\n",
    "cv.fit(AppDataSet['app_desc'])\n",
    "cv.transform(AppDataSet['app_desc'])\n",
    "\n",
    "df = pd.DataFrame(cv.transform(AppDataSet['app_desc']).todense(), columns=cv.get_feature_names())\n",
    "\n",
    "words = df.sum().sort_values(ascending=False)[:50000].index"
   ]
  },
  {
   "cell_type": "markdown",
   "metadata": {},
   "source": [
    "## Train-test split the dataset"
   ]
  },
  {
   "cell_type": "code",
   "execution_count": 8,
   "metadata": {},
   "outputs": [],
   "source": [
    "X = df[words]\n",
    "y = AppDataSet['user_rating']\n",
    "\n",
    "X_train, X_test, y_train, y_test = train_test_split(X, y, random_state=42)"
   ]
  },
  {
   "cell_type": "markdown",
   "metadata": {},
   "source": [
    "## Using KNNeighbors"
   ]
  },
  {
   "cell_type": "code",
   "execution_count": 9,
   "metadata": {},
   "outputs": [
    {
     "name": "stdout",
     "output_type": "stream",
     "text": [
      "0.04255209805042426\n"
     ]
    }
   ],
   "source": [
    "np.random.seed(42)\n",
    "knn = KNeighborsRegressor(n_neighbors=5)\n",
    "\n",
    "knnmodel = knn.fit(X_train, y_train)\n",
    "# Score our model\n",
    "print(knnmodel.score(X_train, y_train))"
   ]
  },
  {
   "cell_type": "code",
   "execution_count": 10,
   "metadata": {
    "scrolled": true
   },
   "outputs": [
    {
     "name": "stdout",
     "output_type": "stream",
     "text": [
      "-0.4480890269332001\n"
     ]
    }
   ],
   "source": [
    "print(knnmodel.score(X_test, y_test))"
   ]
  },
  {
   "cell_type": "code",
   "execution_count": 11,
   "metadata": {},
   "outputs": [
    {
     "name": "stdout",
     "output_type": "stream",
     "text": [
      "Fitting 3 folds for each of 6 candidates, totalling 18 fits\n",
      "[CV] n_neighbors=4 ...................................................\n"
     ]
    },
    {
     "name": "stderr",
     "output_type": "stream",
     "text": [
      "/anaconda3/lib/python3.6/site-packages/sklearn/grid_search.py:42: DeprecationWarning: This module was deprecated in version 0.18 in favor of the model_selection module into which all the refactored classes and functions are moved. This module will be removed in 0.20.\n",
      "  DeprecationWarning)\n"
     ]
    },
    {
     "name": "stdout",
     "output_type": "stream",
     "text": [
      "[CV] .......................................... n_neighbors=4 - 3.4min\n",
      "[CV] n_neighbors=4 ...................................................\n"
     ]
    },
    {
     "name": "stderr",
     "output_type": "stream",
     "text": [
      "[Parallel(n_jobs=1)]: Done   1 out of   1 | elapsed:  3.4min remaining:    0.0s\n"
     ]
    },
    {
     "name": "stdout",
     "output_type": "stream",
     "text": [
      "[CV] .......................................... n_neighbors=4 - 3.4min\n",
      "[CV] n_neighbors=4 ...................................................\n",
      "[CV] .......................................... n_neighbors=4 - 3.4min\n",
      "[CV] n_neighbors=5 ...................................................\n",
      "[CV] .......................................... n_neighbors=5 - 3.4min\n",
      "[CV] n_neighbors=5 ...................................................\n",
      "[CV] .......................................... n_neighbors=5 - 3.4min\n",
      "[CV] n_neighbors=5 ...................................................\n",
      "[CV] .......................................... n_neighbors=5 - 3.4min\n",
      "[CV] n_neighbors=6 ...................................................\n",
      "[CV] .......................................... n_neighbors=6 - 3.4min\n",
      "[CV] n_neighbors=6 ...................................................\n",
      "[CV] .......................................... n_neighbors=6 - 3.4min\n",
      "[CV] n_neighbors=6 ...................................................\n",
      "[CV] .......................................... n_neighbors=6 - 3.4min\n",
      "[CV] n_neighbors=7 ...................................................\n",
      "[CV] .......................................... n_neighbors=7 - 3.4min\n",
      "[CV] n_neighbors=7 ...................................................\n",
      "[CV] .......................................... n_neighbors=7 - 3.4min\n",
      "[CV] n_neighbors=7 ...................................................\n",
      "[CV] .......................................... n_neighbors=7 - 3.4min\n",
      "[CV] n_neighbors=8 ...................................................\n",
      "[CV] .......................................... n_neighbors=8 - 3.4min\n",
      "[CV] n_neighbors=8 ...................................................\n",
      "[CV] .......................................... n_neighbors=8 - 3.4min\n",
      "[CV] n_neighbors=8 ...................................................\n",
      "[CV] .......................................... n_neighbors=8 - 3.4min\n",
      "[CV] n_neighbors=9 ...................................................\n",
      "[CV] .......................................... n_neighbors=9 - 3.7min\n",
      "[CV] n_neighbors=9 ...................................................\n",
      "[CV] .......................................... n_neighbors=9 - 3.6min\n",
      "[CV] n_neighbors=9 ...................................................\n",
      "[CV] .......................................... n_neighbors=9 - 3.4min\n"
     ]
    },
    {
     "name": "stderr",
     "output_type": "stream",
     "text": [
      "[Parallel(n_jobs=1)]: Done  18 out of  18 | elapsed: 61.9min finished\n"
     ]
    },
    {
     "name": "stdout",
     "output_type": "stream",
     "text": [
      "-0.6976024481387336\n",
      "{'n_neighbors': 5}\n",
      "-0.4480890269332001\n"
     ]
    }
   ],
   "source": [
    "from sklearn.grid_search import GridSearchCV\n",
    "\n",
    "params_grid = {'n_neighbors': [ 4,5, 6, 7, 8, 9]}\n",
    "\n",
    "gs = GridSearchCV(knn, params_grid, verbose=2)\n",
    "\n",
    "# replace with X_train and y_train\n",
    "gs.fit(X_train, y_train)\n",
    "\n",
    "print(gs.best_score_)\n",
    "print(gs.best_params_)\n",
    "print(gs.score(X_test, y_test))"
   ]
  },
  {
   "cell_type": "markdown",
   "metadata": {},
   "source": [
    "## Using Linear Regression"
   ]
  },
  {
   "cell_type": "code",
   "execution_count": 12,
   "metadata": {},
   "outputs": [
    {
     "name": "stdout",
     "output_type": "stream",
     "text": [
      "0.9886460481761223\n"
     ]
    }
   ],
   "source": [
    "np.random.seed(42)\n",
    "lr = LinearRegression()\n",
    "\n",
    "model = lr.fit(X_train, y_train)\n",
    "# Score our model\n",
    "print(model.score(X_train, y_train))"
   ]
  },
  {
   "cell_type": "code",
   "execution_count": 13,
   "metadata": {},
   "outputs": [
    {
     "name": "stdout",
     "output_type": "stream",
     "text": [
      "-9.830589098630229e+22\n"
     ]
    }
   ],
   "source": [
    "print(model.score(X_test, y_test))"
   ]
  },
  {
   "cell_type": "code",
   "execution_count": 14,
   "metadata": {},
   "outputs": [
    {
     "name": "stdout",
     "output_type": "stream",
     "text": [
      "Fitting 3 folds for each of 4 candidates, totalling 12 fits\n",
      "[CV] fit_intercept=True, normalize=True ..............................\n",
      "[CV] ..................... fit_intercept=True, normalize=True -  28.2s\n",
      "[CV] fit_intercept=True, normalize=True ..............................\n"
     ]
    },
    {
     "name": "stderr",
     "output_type": "stream",
     "text": [
      "[Parallel(n_jobs=1)]: Done   1 out of   1 | elapsed:   28.2s remaining:    0.0s\n"
     ]
    },
    {
     "name": "stdout",
     "output_type": "stream",
     "text": [
      "[CV] ..................... fit_intercept=True, normalize=True -  28.1s\n",
      "[CV] fit_intercept=True, normalize=True ..............................\n",
      "[CV] ..................... fit_intercept=True, normalize=True -  28.3s\n",
      "[CV] fit_intercept=True, normalize=False .............................\n",
      "[CV] .................... fit_intercept=True, normalize=False -  27.7s\n",
      "[CV] fit_intercept=True, normalize=False .............................\n",
      "[CV] .................... fit_intercept=True, normalize=False -  27.6s\n",
      "[CV] fit_intercept=True, normalize=False .............................\n",
      "[CV] .................... fit_intercept=True, normalize=False -  27.6s\n",
      "[CV] fit_intercept=False, normalize=True .............................\n",
      "[CV] .................... fit_intercept=False, normalize=True -  27.3s\n",
      "[CV] fit_intercept=False, normalize=True .............................\n",
      "[CV] .................... fit_intercept=False, normalize=True -  27.4s\n",
      "[CV] fit_intercept=False, normalize=True .............................\n",
      "[CV] .................... fit_intercept=False, normalize=True -  27.3s\n",
      "[CV] fit_intercept=False, normalize=False ............................\n",
      "[CV] ................... fit_intercept=False, normalize=False -  27.2s\n",
      "[CV] fit_intercept=False, normalize=False ............................\n",
      "[CV] ................... fit_intercept=False, normalize=False -  27.2s\n",
      "[CV] fit_intercept=False, normalize=False ............................\n",
      "[CV] ................... fit_intercept=False, normalize=False -  27.3s\n"
     ]
    },
    {
     "name": "stderr",
     "output_type": "stream",
     "text": [
      "[Parallel(n_jobs=1)]: Done  12 out of  12 | elapsed:  5.5min finished\n"
     ]
    },
    {
     "name": "stdout",
     "output_type": "stream",
     "text": [
      "-1.3030197608557463e+21\n",
      "{'fit_intercept': False, 'normalize': True}\n",
      "-5.838885925927435\n"
     ]
    }
   ],
   "source": [
    "from sklearn.grid_search import GridSearchCV\n",
    "\n",
    "params_grid = {'fit_intercept':[True, False], 'normalize':[True, False]}\n",
    "\n",
    "gs = GridSearchCV(lr, params_grid, verbose=2)\n",
    "\n",
    "# replace with X_train and y_train\n",
    "gs.fit(X_train, y_train)\n",
    "\n",
    "print(gs.best_score_)\n",
    "print(gs.best_params_)\n",
    "print(gs.score(X_test, y_test))"
   ]
  },
  {
   "cell_type": "code",
   "execution_count": null,
   "metadata": {},
   "outputs": [],
   "source": []
  },
  {
   "cell_type": "code",
   "execution_count": null,
   "metadata": {},
   "outputs": [],
   "source": []
  },
  {
   "cell_type": "code",
   "execution_count": null,
   "metadata": {},
   "outputs": [],
   "source": []
  },
  {
   "cell_type": "code",
   "execution_count": null,
   "metadata": {},
   "outputs": [],
   "source": []
  },
  {
   "cell_type": "code",
   "execution_count": null,
   "metadata": {},
   "outputs": [],
   "source": []
  },
  {
   "cell_type": "code",
   "execution_count": null,
   "metadata": {},
   "outputs": [],
   "source": []
  },
  {
   "cell_type": "code",
   "execution_count": null,
   "metadata": {},
   "outputs": [],
   "source": []
  }
 ],
 "metadata": {
  "kernelspec": {
   "display_name": "Python 3",
   "language": "python",
   "name": "python3"
  },
  "language_info": {
   "codemirror_mode": {
    "name": "ipython",
    "version": 3
   },
   "file_extension": ".py",
   "mimetype": "text/x-python",
   "name": "python",
   "nbconvert_exporter": "python",
   "pygments_lexer": "ipython3",
   "version": "3.6.4"
  }
 },
 "nbformat": 4,
 "nbformat_minor": 2
}

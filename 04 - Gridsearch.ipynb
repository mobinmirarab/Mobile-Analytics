{
 "cells": [
  {
   "cell_type": "code",
   "execution_count": 1,
   "metadata": {},
   "outputs": [],
   "source": [
    "# import libraries\n",
    "import pandas as pd\n",
    "import numpy as np\n",
    "\n",
    "from sklearn.linear_model import LinearRegression\n",
    "from sklearn.preprocessing import StandardScaler\n",
    "from sklearn.model_selection import GridSearchCV, train_test_split\n",
    "from sklearn.pipeline import Pipeline\n",
    "from sklearn.svm import SVR\n",
    "import matplotlib.pyplot as plt\n",
    "import seaborn as sns"
   ]
  },
  {
   "cell_type": "code",
   "execution_count": 2,
   "metadata": {},
   "outputs": [],
   "source": [
    "pd.options.display.float_format = '{:.4f}'.format\n",
    "np.random.seed(42)"
   ]
  },
  {
   "cell_type": "code",
   "execution_count": 3,
   "metadata": {},
   "outputs": [
    {
     "data": {
      "text/html": [
       "<div>\n",
       "<style scoped>\n",
       "    .dataframe tbody tr th:only-of-type {\n",
       "        vertical-align: middle;\n",
       "    }\n",
       "\n",
       "    .dataframe tbody tr th {\n",
       "        vertical-align: top;\n",
       "    }\n",
       "\n",
       "    .dataframe thead th {\n",
       "        text-align: right;\n",
       "    }\n",
       "</style>\n",
       "<table border=\"1\" class=\"dataframe\">\n",
       "  <thead>\n",
       "    <tr style=\"text-align: right;\">\n",
       "      <th></th>\n",
       "      <th>Unnamed: 0</th>\n",
       "      <th>id</th>\n",
       "      <th>track_name</th>\n",
       "      <th>size_bytes</th>\n",
       "      <th>currency</th>\n",
       "      <th>price</th>\n",
       "      <th>rating_count_tot</th>\n",
       "      <th>rating_count_ver</th>\n",
       "      <th>user_rating</th>\n",
       "      <th>user_rating_ver</th>\n",
       "      <th>ver</th>\n",
       "      <th>cont_rating</th>\n",
       "      <th>prime_genre</th>\n",
       "      <th>sup_devices.num</th>\n",
       "      <th>ipadSc_urls.num</th>\n",
       "      <th>lang.num</th>\n",
       "      <th>vpp_lic</th>\n",
       "    </tr>\n",
       "  </thead>\n",
       "  <tbody>\n",
       "    <tr>\n",
       "      <th>0</th>\n",
       "      <td>1</td>\n",
       "      <td>281656475</td>\n",
       "      <td>PAC-MAN Premium</td>\n",
       "      <td>100788224</td>\n",
       "      <td>USD</td>\n",
       "      <td>3.9900</td>\n",
       "      <td>21292</td>\n",
       "      <td>26</td>\n",
       "      <td>4.0000</td>\n",
       "      <td>4.5000</td>\n",
       "      <td>6.3.5</td>\n",
       "      <td>4+</td>\n",
       "      <td>Games</td>\n",
       "      <td>38</td>\n",
       "      <td>5</td>\n",
       "      <td>10</td>\n",
       "      <td>1</td>\n",
       "    </tr>\n",
       "    <tr>\n",
       "      <th>1</th>\n",
       "      <td>2</td>\n",
       "      <td>281796108</td>\n",
       "      <td>Evernote - stay organized</td>\n",
       "      <td>158578688</td>\n",
       "      <td>USD</td>\n",
       "      <td>0.0000</td>\n",
       "      <td>161065</td>\n",
       "      <td>26</td>\n",
       "      <td>4.0000</td>\n",
       "      <td>3.5000</td>\n",
       "      <td>8.2.2</td>\n",
       "      <td>4+</td>\n",
       "      <td>Productivity</td>\n",
       "      <td>37</td>\n",
       "      <td>5</td>\n",
       "      <td>23</td>\n",
       "      <td>1</td>\n",
       "    </tr>\n",
       "    <tr>\n",
       "      <th>2</th>\n",
       "      <td>3</td>\n",
       "      <td>281940292</td>\n",
       "      <td>WeatherBug - Local Weather, Radar, Maps, Alerts</td>\n",
       "      <td>100524032</td>\n",
       "      <td>USD</td>\n",
       "      <td>0.0000</td>\n",
       "      <td>188583</td>\n",
       "      <td>2822</td>\n",
       "      <td>3.5000</td>\n",
       "      <td>4.5000</td>\n",
       "      <td>5.0.0</td>\n",
       "      <td>4+</td>\n",
       "      <td>Weather</td>\n",
       "      <td>37</td>\n",
       "      <td>5</td>\n",
       "      <td>3</td>\n",
       "      <td>1</td>\n",
       "    </tr>\n",
       "    <tr>\n",
       "      <th>3</th>\n",
       "      <td>4</td>\n",
       "      <td>282614216</td>\n",
       "      <td>eBay: Best App to Buy, Sell, Save! Online Shop...</td>\n",
       "      <td>128512000</td>\n",
       "      <td>USD</td>\n",
       "      <td>0.0000</td>\n",
       "      <td>262241</td>\n",
       "      <td>649</td>\n",
       "      <td>4.0000</td>\n",
       "      <td>4.5000</td>\n",
       "      <td>5.10.0</td>\n",
       "      <td>12+</td>\n",
       "      <td>Shopping</td>\n",
       "      <td>37</td>\n",
       "      <td>5</td>\n",
       "      <td>9</td>\n",
       "      <td>1</td>\n",
       "    </tr>\n",
       "    <tr>\n",
       "      <th>4</th>\n",
       "      <td>5</td>\n",
       "      <td>282935706</td>\n",
       "      <td>Bible</td>\n",
       "      <td>92774400</td>\n",
       "      <td>USD</td>\n",
       "      <td>0.0000</td>\n",
       "      <td>985920</td>\n",
       "      <td>5320</td>\n",
       "      <td>4.5000</td>\n",
       "      <td>5.0000</td>\n",
       "      <td>7.5.1</td>\n",
       "      <td>4+</td>\n",
       "      <td>Reference</td>\n",
       "      <td>37</td>\n",
       "      <td>5</td>\n",
       "      <td>45</td>\n",
       "      <td>1</td>\n",
       "    </tr>\n",
       "  </tbody>\n",
       "</table>\n",
       "</div>"
      ],
      "text/plain": [
       "   Unnamed: 0         id                                         track_name  \\\n",
       "0           1  281656475                                    PAC-MAN Premium   \n",
       "1           2  281796108                          Evernote - stay organized   \n",
       "2           3  281940292    WeatherBug - Local Weather, Radar, Maps, Alerts   \n",
       "3           4  282614216  eBay: Best App to Buy, Sell, Save! Online Shop...   \n",
       "4           5  282935706                                              Bible   \n",
       "\n",
       "   size_bytes currency  price  rating_count_tot  rating_count_ver  \\\n",
       "0   100788224      USD 3.9900             21292                26   \n",
       "1   158578688      USD 0.0000            161065                26   \n",
       "2   100524032      USD 0.0000            188583              2822   \n",
       "3   128512000      USD 0.0000            262241               649   \n",
       "4    92774400      USD 0.0000            985920              5320   \n",
       "\n",
       "   user_rating  user_rating_ver     ver cont_rating   prime_genre  \\\n",
       "0       4.0000           4.5000   6.3.5          4+         Games   \n",
       "1       4.0000           3.5000   8.2.2          4+  Productivity   \n",
       "2       3.5000           4.5000   5.0.0          4+       Weather   \n",
       "3       4.0000           4.5000  5.10.0         12+      Shopping   \n",
       "4       4.5000           5.0000   7.5.1          4+     Reference   \n",
       "\n",
       "   sup_devices.num  ipadSc_urls.num  lang.num  vpp_lic  \n",
       "0               38                5        10        1  \n",
       "1               37                5        23        1  \n",
       "2               37                5         3        1  \n",
       "3               37                5         9        1  \n",
       "4               37                5        45        1  "
      ]
     },
     "execution_count": 3,
     "metadata": {},
     "output_type": "execute_result"
    }
   ],
   "source": [
    "# Read the dataset\n",
    "dataSet  = pd.read_csv(\"DataSet/app-store-apple-data-set-10k-apps/AppleStore.csv\")\n",
    "\n",
    "dataSet.head()"
   ]
  },
  {
   "cell_type": "code",
   "execution_count": 4,
   "metadata": {},
   "outputs": [],
   "source": [
    "dataSet = pd.concat([dataSet, pd.get_dummies(dataSet['prime_genre'], prefix_sep=\"genre\", dummy_na=True)], axis = 1)"
   ]
  },
  {
   "cell_type": "code",
   "execution_count": 5,
   "metadata": {},
   "outputs": [],
   "source": [
    "dataSet = pd.concat([dataSet, pd.get_dummies(dataSet['cont_rating'], prefix_sep=\"cont_\", dummy_na=True)], axis = 1)"
   ]
  },
  {
   "cell_type": "code",
   "execution_count": 6,
   "metadata": {},
   "outputs": [
    {
     "data": {
      "text/html": [
       "<div>\n",
       "<style scoped>\n",
       "    .dataframe tbody tr th:only-of-type {\n",
       "        vertical-align: middle;\n",
       "    }\n",
       "\n",
       "    .dataframe tbody tr th {\n",
       "        vertical-align: top;\n",
       "    }\n",
       "\n",
       "    .dataframe thead th {\n",
       "        text-align: right;\n",
       "    }\n",
       "</style>\n",
       "<table border=\"1\" class=\"dataframe\">\n",
       "  <thead>\n",
       "    <tr style=\"text-align: right;\">\n",
       "      <th></th>\n",
       "      <th>Unnamed: 0</th>\n",
       "      <th>id</th>\n",
       "      <th>track_name</th>\n",
       "      <th>size_bytes</th>\n",
       "      <th>currency</th>\n",
       "      <th>price</th>\n",
       "      <th>rating_count_tot</th>\n",
       "      <th>rating_count_ver</th>\n",
       "      <th>user_rating</th>\n",
       "      <th>user_rating_ver</th>\n",
       "      <th>...</th>\n",
       "      <th>Sports</th>\n",
       "      <th>Travel</th>\n",
       "      <th>Utilities</th>\n",
       "      <th>Weather</th>\n",
       "      <th>nan</th>\n",
       "      <th>12+</th>\n",
       "      <th>17+</th>\n",
       "      <th>4+</th>\n",
       "      <th>9+</th>\n",
       "      <th>nan</th>\n",
       "    </tr>\n",
       "  </thead>\n",
       "  <tbody>\n",
       "    <tr>\n",
       "      <th>0</th>\n",
       "      <td>1</td>\n",
       "      <td>281656475</td>\n",
       "      <td>PAC-MAN Premium</td>\n",
       "      <td>100788224</td>\n",
       "      <td>USD</td>\n",
       "      <td>3.9900</td>\n",
       "      <td>21292</td>\n",
       "      <td>26</td>\n",
       "      <td>4.0000</td>\n",
       "      <td>4.5000</td>\n",
       "      <td>...</td>\n",
       "      <td>0</td>\n",
       "      <td>0</td>\n",
       "      <td>0</td>\n",
       "      <td>0</td>\n",
       "      <td>0</td>\n",
       "      <td>0</td>\n",
       "      <td>0</td>\n",
       "      <td>1</td>\n",
       "      <td>0</td>\n",
       "      <td>0</td>\n",
       "    </tr>\n",
       "    <tr>\n",
       "      <th>1</th>\n",
       "      <td>2</td>\n",
       "      <td>281796108</td>\n",
       "      <td>Evernote - stay organized</td>\n",
       "      <td>158578688</td>\n",
       "      <td>USD</td>\n",
       "      <td>0.0000</td>\n",
       "      <td>161065</td>\n",
       "      <td>26</td>\n",
       "      <td>4.0000</td>\n",
       "      <td>3.5000</td>\n",
       "      <td>...</td>\n",
       "      <td>0</td>\n",
       "      <td>0</td>\n",
       "      <td>0</td>\n",
       "      <td>0</td>\n",
       "      <td>0</td>\n",
       "      <td>0</td>\n",
       "      <td>0</td>\n",
       "      <td>1</td>\n",
       "      <td>0</td>\n",
       "      <td>0</td>\n",
       "    </tr>\n",
       "    <tr>\n",
       "      <th>2</th>\n",
       "      <td>3</td>\n",
       "      <td>281940292</td>\n",
       "      <td>WeatherBug - Local Weather, Radar, Maps, Alerts</td>\n",
       "      <td>100524032</td>\n",
       "      <td>USD</td>\n",
       "      <td>0.0000</td>\n",
       "      <td>188583</td>\n",
       "      <td>2822</td>\n",
       "      <td>3.5000</td>\n",
       "      <td>4.5000</td>\n",
       "      <td>...</td>\n",
       "      <td>0</td>\n",
       "      <td>0</td>\n",
       "      <td>0</td>\n",
       "      <td>1</td>\n",
       "      <td>0</td>\n",
       "      <td>0</td>\n",
       "      <td>0</td>\n",
       "      <td>1</td>\n",
       "      <td>0</td>\n",
       "      <td>0</td>\n",
       "    </tr>\n",
       "    <tr>\n",
       "      <th>3</th>\n",
       "      <td>4</td>\n",
       "      <td>282614216</td>\n",
       "      <td>eBay: Best App to Buy, Sell, Save! Online Shop...</td>\n",
       "      <td>128512000</td>\n",
       "      <td>USD</td>\n",
       "      <td>0.0000</td>\n",
       "      <td>262241</td>\n",
       "      <td>649</td>\n",
       "      <td>4.0000</td>\n",
       "      <td>4.5000</td>\n",
       "      <td>...</td>\n",
       "      <td>0</td>\n",
       "      <td>0</td>\n",
       "      <td>0</td>\n",
       "      <td>0</td>\n",
       "      <td>0</td>\n",
       "      <td>1</td>\n",
       "      <td>0</td>\n",
       "      <td>0</td>\n",
       "      <td>0</td>\n",
       "      <td>0</td>\n",
       "    </tr>\n",
       "    <tr>\n",
       "      <th>4</th>\n",
       "      <td>5</td>\n",
       "      <td>282935706</td>\n",
       "      <td>Bible</td>\n",
       "      <td>92774400</td>\n",
       "      <td>USD</td>\n",
       "      <td>0.0000</td>\n",
       "      <td>985920</td>\n",
       "      <td>5320</td>\n",
       "      <td>4.5000</td>\n",
       "      <td>5.0000</td>\n",
       "      <td>...</td>\n",
       "      <td>0</td>\n",
       "      <td>0</td>\n",
       "      <td>0</td>\n",
       "      <td>0</td>\n",
       "      <td>0</td>\n",
       "      <td>0</td>\n",
       "      <td>0</td>\n",
       "      <td>1</td>\n",
       "      <td>0</td>\n",
       "      <td>0</td>\n",
       "    </tr>\n",
       "  </tbody>\n",
       "</table>\n",
       "<p>5 rows × 46 columns</p>\n",
       "</div>"
      ],
      "text/plain": [
       "   Unnamed: 0         id                                         track_name  \\\n",
       "0           1  281656475                                    PAC-MAN Premium   \n",
       "1           2  281796108                          Evernote - stay organized   \n",
       "2           3  281940292    WeatherBug - Local Weather, Radar, Maps, Alerts   \n",
       "3           4  282614216  eBay: Best App to Buy, Sell, Save! Online Shop...   \n",
       "4           5  282935706                                              Bible   \n",
       "\n",
       "   size_bytes currency  price  rating_count_tot  rating_count_ver  \\\n",
       "0   100788224      USD 3.9900             21292                26   \n",
       "1   158578688      USD 0.0000            161065                26   \n",
       "2   100524032      USD 0.0000            188583              2822   \n",
       "3   128512000      USD 0.0000            262241               649   \n",
       "4    92774400      USD 0.0000            985920              5320   \n",
       "\n",
       "   user_rating  user_rating_ver ...  Sports Travel Utilities  Weather  NaN  \\\n",
       "0       4.0000           4.5000 ...       0      0         0        0    0   \n",
       "1       4.0000           3.5000 ...       0      0         0        0    0   \n",
       "2       3.5000           4.5000 ...       0      0         0        1    0   \n",
       "3       4.0000           4.5000 ...       0      0         0        0    0   \n",
       "4       4.5000           5.0000 ...       0      0         0        0    0   \n",
       "\n",
       "   12+  17+  4+  9+  NaN  \n",
       "0    0    0   1   0    0  \n",
       "1    0    0   1   0    0  \n",
       "2    0    0   1   0    0  \n",
       "3    1    0   0   0    0  \n",
       "4    0    0   1   0    0  \n",
       "\n",
       "[5 rows x 46 columns]"
      ]
     },
     "execution_count": 6,
     "metadata": {},
     "output_type": "execute_result"
    }
   ],
   "source": [
    "dataSet.head()"
   ]
  },
  {
   "cell_type": "code",
   "execution_count": 7,
   "metadata": {},
   "outputs": [],
   "source": [
    "subset = dataSet.sample(1000)"
   ]
  },
  {
   "cell_type": "code",
   "execution_count": 8,
   "metadata": {},
   "outputs": [
    {
     "data": {
      "text/plain": [
       "Index([       'Unnamed: 0',                'id',        'track_name',\n",
       "              'size_bytes',          'currency',             'price',\n",
       "        'rating_count_tot',  'rating_count_ver',       'user_rating',\n",
       "         'user_rating_ver',               'ver',       'cont_rating',\n",
       "             'prime_genre',   'sup_devices.num',   'ipadSc_urls.num',\n",
       "                'lang.num',           'vpp_lic',              'Book',\n",
       "                'Business',          'Catalogs',         'Education',\n",
       "           'Entertainment',           'Finance',      'Food & Drink',\n",
       "                   'Games',  'Health & Fitness',         'Lifestyle',\n",
       "                 'Medical',             'Music',        'Navigation',\n",
       "                    'News',     'Photo & Video',      'Productivity',\n",
       "               'Reference',          'Shopping', 'Social Networking',\n",
       "                  'Sports',            'Travel',         'Utilities',\n",
       "                 'Weather',                 nan,               '12+',\n",
       "                     '17+',                '4+',                '9+',\n",
       "                       nan],\n",
       "      dtype='object')"
      ]
     },
     "execution_count": 8,
     "metadata": {},
     "output_type": "execute_result"
    }
   ],
   "source": [
    "dataSet.columns"
   ]
  },
  {
   "cell_type": "code",
   "execution_count": 9,
   "metadata": {},
   "outputs": [],
   "source": [
    "features =[ 'size_bytes','currency','price','rating_count_tot','rating_count_ver','user_rating','user_rating_ver',\n",
    "           'sup_devices.num','ipadSc_urls.num','lang.num','vpp_lic','Book','Business','Catalogs','Education',\n",
    "           'Entertainment','Finance','Food & Drink','Games','Health & Fitness','Lifestyle','Medical','Music',\n",
    "           'Navigation','News','Photo & Video','Productivity','Reference','Shopping','Social Networking','Sports',\n",
    "           'Travel','Utilities','Weather','12+','17+','4+','9+',]"
   ]
  },
  {
   "cell_type": "code",
   "execution_count": 10,
   "metadata": {},
   "outputs": [],
   "source": [
    "X = dataSet.drop(labels=['Unnamed: 0','user_rating', 'prime_genre', 'id', 'track_name','currency', 'ver', 'cont_rating'], axis=1)\n",
    "y = dataSet['user_rating']\n",
    "\n",
    "X_train, X_test, y_train, y_test = train_test_split(X, y, random_state=42)"
   ]
  },
  {
   "cell_type": "code",
   "execution_count": 11,
   "metadata": {},
   "outputs": [],
   "source": [
    "np.random.seed(42)\n",
    "ss = StandardScaler()\n",
    "ss.fit(X_train)\n",
    "X_train_s = ss.transform(X_train)\n",
    "X_test_s = ss.transform(X_test)"
   ]
  },
  {
   "cell_type": "code",
   "execution_count": 12,
   "metadata": {},
   "outputs": [
    {
     "name": "stdout",
     "output_type": "stream",
     "text": [
      "(5397, 38) (5397,)\n"
     ]
    }
   ],
   "source": [
    "print(X_train.shape, y_train.shape)"
   ]
  },
  {
   "cell_type": "code",
   "execution_count": 13,
   "metadata": {},
   "outputs": [],
   "source": [
    "from sklearn.linear_model import ElasticNetCV, RidgeCV, LassoCV"
   ]
  },
  {
   "cell_type": "code",
   "execution_count": 14,
   "metadata": {},
   "outputs": [
    {
     "data": {
      "text/plain": [
       "ElasticNetCV(alphas=None, copy_X=True, cv=3, eps=0.001, fit_intercept=True,\n",
       "       l1_ratio=0.5, max_iter=1000, n_alphas=100, n_jobs=1,\n",
       "       normalize=False, positive=False, precompute='auto', random_state=42,\n",
       "       selection='cyclic', tol=0.0001, verbose=0)"
      ]
     },
     "execution_count": 14,
     "metadata": {},
     "output_type": "execute_result"
    }
   ],
   "source": [
    "ElasticNetCV(cv=3, random_state=42)"
   ]
  },
  {
   "cell_type": "code",
   "execution_count": 15,
   "metadata": {},
   "outputs": [
    {
     "name": "stdout",
     "output_type": "stream",
     "text": [
      "Fitting 3 folds for each of 3 candidates, totalling 9 fits\n",
      "[CV] l1_ratio=0.25 ...................................................\n",
      "[CV] .................................... l1_ratio=0.25, total=   0.1s\n",
      "[CV] l1_ratio=0.25 ...................................................\n",
      "[CV] .................................... l1_ratio=0.25, total=   0.0s\n",
      "[CV] l1_ratio=0.25 ...................................................\n"
     ]
    },
    {
     "name": "stderr",
     "output_type": "stream",
     "text": [
      "[Parallel(n_jobs=1)]: Done   1 out of   1 | elapsed:    0.1s remaining:    0.0s\n"
     ]
    },
    {
     "name": "stdout",
     "output_type": "stream",
     "text": [
      "[CV] .................................... l1_ratio=0.25, total=   0.0s\n",
      "[CV] l1_ratio=0.5 ....................................................\n",
      "[CV] ..................................... l1_ratio=0.5, total=   0.0s\n",
      "[CV] l1_ratio=0.5 ....................................................\n",
      "[CV] ..................................... l1_ratio=0.5, total=   0.0s\n",
      "[CV] l1_ratio=0.5 ....................................................\n",
      "[CV] ..................................... l1_ratio=0.5, total=   0.0s\n",
      "[CV] l1_ratio=1 ......................................................\n",
      "[CV] ....................................... l1_ratio=1, total=   0.0s\n",
      "[CV] l1_ratio=1 ......................................................\n",
      "[CV] ....................................... l1_ratio=1, total=   0.0s\n",
      "[CV] l1_ratio=1 ......................................................\n",
      "[CV] ....................................... l1_ratio=1, total=   0.0s\n"
     ]
    },
    {
     "name": "stderr",
     "output_type": "stream",
     "text": [
      "[Parallel(n_jobs=1)]: Done   9 out of   9 | elapsed:    0.5s finished\n"
     ]
    },
    {
     "data": {
      "text/plain": [
       "GridSearchCV(cv=3, error_score='raise',\n",
       "       estimator=ElasticNetCV(alphas=None, copy_X=True, cv=3, eps=0.001, fit_intercept=True,\n",
       "       l1_ratio=0.5, max_iter=1000, n_alphas=100, n_jobs=1,\n",
       "       normalize=False, positive=False, precompute='auto', random_state=42,\n",
       "       selection='cyclic', tol=0.0001, verbose=0),\n",
       "       fit_params=None, iid=True, n_jobs=1,\n",
       "       param_grid={'l1_ratio': [0.25, 0.5, 1]}, pre_dispatch='2*n_jobs',\n",
       "       refit=True, return_train_score='warn', scoring=None, verbose=2)"
      ]
     },
     "execution_count": 15,
     "metadata": {},
     "output_type": "execute_result"
    }
   ],
   "source": [
    "params_grid={\n",
    "        'l1_ratio':[0.25, 0.5, 1]\n",
    "            }\n",
    "gs = GridSearchCV(ElasticNetCV(cv=3, random_state=42), params_grid, verbose=2, cv=3)\n",
    "ss = StandardScaler()\n",
    "gs.fit(X_train_s, y_train)"
   ]
  },
  {
   "cell_type": "code",
   "execution_count": 16,
   "metadata": {},
   "outputs": [
    {
     "data": {
      "text/plain": [
       "0.6029481377039894"
      ]
     },
     "execution_count": 16,
     "metadata": {},
     "output_type": "execute_result"
    }
   ],
   "source": [
    "gs.score(X_test_s, y_test)"
   ]
  },
  {
   "cell_type": "code",
   "execution_count": 17,
   "metadata": {},
   "outputs": [
    {
     "data": {
      "text/plain": [
       "{'l1_ratio': 1}"
      ]
     },
     "execution_count": 17,
     "metadata": {},
     "output_type": "execute_result"
    }
   ],
   "source": [
    "gs.best_params_"
   ]
  },
  {
   "cell_type": "code",
   "execution_count": 18,
   "metadata": {},
   "outputs": [
    {
     "data": {
      "text/plain": [
       "0.6053058234080807"
      ]
     },
     "execution_count": 18,
     "metadata": {},
     "output_type": "execute_result"
    }
   ],
   "source": [
    "gs.best_score_"
   ]
  },
  {
   "cell_type": "code",
   "execution_count": 19,
   "metadata": {},
   "outputs": [
    {
     "data": {
      "text/plain": [
       "array([-0.00000000e+00,  2.32019726e-02,  4.94709208e-03,  1.71803705e-03,\n",
       "        1.12972370e+00, -1.72471801e-02,  8.98891450e-02,  3.65483993e-02,\n",
       "        3.08291709e-02, -1.79187518e-02,  0.00000000e+00, -1.35907115e-02,\n",
       "       -0.00000000e+00, -1.10651795e-02, -0.00000000e+00,  1.51608579e-02,\n",
       "       -3.40168626e-02,  1.07830945e-02,  0.00000000e+00, -0.00000000e+00,\n",
       "       -0.00000000e+00, -0.00000000e+00,  1.19768097e-02,  2.02742696e-02,\n",
       "        7.73919213e-03,  0.00000000e+00,  3.92983228e-02, -0.00000000e+00,\n",
       "       -0.00000000e+00,  1.45777574e-02,  0.00000000e+00,  7.60857871e-05,\n",
       "        0.00000000e+00,  6.70633432e-03, -0.00000000e+00, -0.00000000e+00,\n",
       "        0.00000000e+00,  0.00000000e+00])"
      ]
     },
     "execution_count": 19,
     "metadata": {},
     "output_type": "execute_result"
    }
   ],
   "source": [
    "gs.best_estimator_.coef_"
   ]
  },
  {
   "cell_type": "code",
   "execution_count": 20,
   "metadata": {},
   "outputs": [
    {
     "data": {
      "text/html": [
       "<div>\n",
       "<style scoped>\n",
       "    .dataframe tbody tr th:only-of-type {\n",
       "        vertical-align: middle;\n",
       "    }\n",
       "\n",
       "    .dataframe tbody tr th {\n",
       "        vertical-align: top;\n",
       "    }\n",
       "\n",
       "    .dataframe thead th {\n",
       "        text-align: right;\n",
       "    }\n",
       "</style>\n",
       "<table border=\"1\" class=\"dataframe\">\n",
       "  <thead>\n",
       "    <tr style=\"text-align: right;\">\n",
       "      <th></th>\n",
       "      <th>variable</th>\n",
       "      <th>_coefficient</th>\n",
       "    </tr>\n",
       "  </thead>\n",
       "  <tbody>\n",
       "    <tr>\n",
       "      <th>16</th>\n",
       "      <td>Finance</td>\n",
       "      <td>-0.0340</td>\n",
       "    </tr>\n",
       "    <tr>\n",
       "      <th>9</th>\n",
       "      <td>lang.num</td>\n",
       "      <td>-0.0179</td>\n",
       "    </tr>\n",
       "    <tr>\n",
       "      <th>5</th>\n",
       "      <td>user_rating</td>\n",
       "      <td>-0.0172</td>\n",
       "    </tr>\n",
       "    <tr>\n",
       "      <th>11</th>\n",
       "      <td>Book</td>\n",
       "      <td>-0.0136</td>\n",
       "    </tr>\n",
       "    <tr>\n",
       "      <th>13</th>\n",
       "      <td>Catalogs</td>\n",
       "      <td>-0.0111</td>\n",
       "    </tr>\n",
       "    <tr>\n",
       "      <th>19</th>\n",
       "      <td>Health &amp; Fitness</td>\n",
       "      <td>-0.0000</td>\n",
       "    </tr>\n",
       "    <tr>\n",
       "      <th>20</th>\n",
       "      <td>Lifestyle</td>\n",
       "      <td>-0.0000</td>\n",
       "    </tr>\n",
       "    <tr>\n",
       "      <th>21</th>\n",
       "      <td>Medical</td>\n",
       "      <td>-0.0000</td>\n",
       "    </tr>\n",
       "    <tr>\n",
       "      <th>0</th>\n",
       "      <td>size_bytes</td>\n",
       "      <td>-0.0000</td>\n",
       "    </tr>\n",
       "    <tr>\n",
       "      <th>27</th>\n",
       "      <td>Reference</td>\n",
       "      <td>-0.0000</td>\n",
       "    </tr>\n",
       "    <tr>\n",
       "      <th>28</th>\n",
       "      <td>Shopping</td>\n",
       "      <td>-0.0000</td>\n",
       "    </tr>\n",
       "    <tr>\n",
       "      <th>30</th>\n",
       "      <td>Sports</td>\n",
       "      <td>0.0000</td>\n",
       "    </tr>\n",
       "    <tr>\n",
       "      <th>32</th>\n",
       "      <td>Utilities</td>\n",
       "      <td>0.0000</td>\n",
       "    </tr>\n",
       "    <tr>\n",
       "      <th>34</th>\n",
       "      <td>12+</td>\n",
       "      <td>-0.0000</td>\n",
       "    </tr>\n",
       "    <tr>\n",
       "      <th>35</th>\n",
       "      <td>17+</td>\n",
       "      <td>-0.0000</td>\n",
       "    </tr>\n",
       "    <tr>\n",
       "      <th>36</th>\n",
       "      <td>4+</td>\n",
       "      <td>0.0000</td>\n",
       "    </tr>\n",
       "    <tr>\n",
       "      <th>25</th>\n",
       "      <td>Photo &amp; Video</td>\n",
       "      <td>0.0000</td>\n",
       "    </tr>\n",
       "    <tr>\n",
       "      <th>18</th>\n",
       "      <td>Games</td>\n",
       "      <td>0.0000</td>\n",
       "    </tr>\n",
       "    <tr>\n",
       "      <th>37</th>\n",
       "      <td>9+</td>\n",
       "      <td>0.0000</td>\n",
       "    </tr>\n",
       "    <tr>\n",
       "      <th>14</th>\n",
       "      <td>Education</td>\n",
       "      <td>-0.0000</td>\n",
       "    </tr>\n",
       "    <tr>\n",
       "      <th>12</th>\n",
       "      <td>Business</td>\n",
       "      <td>-0.0000</td>\n",
       "    </tr>\n",
       "    <tr>\n",
       "      <th>10</th>\n",
       "      <td>vpp_lic</td>\n",
       "      <td>0.0000</td>\n",
       "    </tr>\n",
       "    <tr>\n",
       "      <th>31</th>\n",
       "      <td>Travel</td>\n",
       "      <td>0.0001</td>\n",
       "    </tr>\n",
       "    <tr>\n",
       "      <th>3</th>\n",
       "      <td>rating_count_tot</td>\n",
       "      <td>0.0017</td>\n",
       "    </tr>\n",
       "    <tr>\n",
       "      <th>2</th>\n",
       "      <td>price</td>\n",
       "      <td>0.0049</td>\n",
       "    </tr>\n",
       "    <tr>\n",
       "      <th>33</th>\n",
       "      <td>Weather</td>\n",
       "      <td>0.0067</td>\n",
       "    </tr>\n",
       "    <tr>\n",
       "      <th>24</th>\n",
       "      <td>News</td>\n",
       "      <td>0.0077</td>\n",
       "    </tr>\n",
       "    <tr>\n",
       "      <th>17</th>\n",
       "      <td>Food &amp; Drink</td>\n",
       "      <td>0.0108</td>\n",
       "    </tr>\n",
       "    <tr>\n",
       "      <th>22</th>\n",
       "      <td>Music</td>\n",
       "      <td>0.0120</td>\n",
       "    </tr>\n",
       "    <tr>\n",
       "      <th>29</th>\n",
       "      <td>Social Networking</td>\n",
       "      <td>0.0146</td>\n",
       "    </tr>\n",
       "    <tr>\n",
       "      <th>15</th>\n",
       "      <td>Entertainment</td>\n",
       "      <td>0.0152</td>\n",
       "    </tr>\n",
       "    <tr>\n",
       "      <th>23</th>\n",
       "      <td>Navigation</td>\n",
       "      <td>0.0203</td>\n",
       "    </tr>\n",
       "    <tr>\n",
       "      <th>1</th>\n",
       "      <td>currency</td>\n",
       "      <td>0.0232</td>\n",
       "    </tr>\n",
       "    <tr>\n",
       "      <th>8</th>\n",
       "      <td>ipadSc_urls.num</td>\n",
       "      <td>0.0308</td>\n",
       "    </tr>\n",
       "    <tr>\n",
       "      <th>7</th>\n",
       "      <td>sup_devices.num</td>\n",
       "      <td>0.0365</td>\n",
       "    </tr>\n",
       "    <tr>\n",
       "      <th>26</th>\n",
       "      <td>Productivity</td>\n",
       "      <td>0.0393</td>\n",
       "    </tr>\n",
       "    <tr>\n",
       "      <th>6</th>\n",
       "      <td>user_rating_ver</td>\n",
       "      <td>0.0899</td>\n",
       "    </tr>\n",
       "    <tr>\n",
       "      <th>4</th>\n",
       "      <td>rating_count_ver</td>\n",
       "      <td>1.1297</td>\n",
       "    </tr>\n",
       "  </tbody>\n",
       "</table>\n",
       "</div>"
      ],
      "text/plain": [
       "             variable  _coefficient\n",
       "16            Finance       -0.0340\n",
       "9            lang.num       -0.0179\n",
       "5         user_rating       -0.0172\n",
       "11               Book       -0.0136\n",
       "13           Catalogs       -0.0111\n",
       "19   Health & Fitness       -0.0000\n",
       "20          Lifestyle       -0.0000\n",
       "21            Medical       -0.0000\n",
       "0          size_bytes       -0.0000\n",
       "27          Reference       -0.0000\n",
       "28           Shopping       -0.0000\n",
       "30             Sports        0.0000\n",
       "32          Utilities        0.0000\n",
       "34                12+       -0.0000\n",
       "35                17+       -0.0000\n",
       "36                 4+        0.0000\n",
       "25      Photo & Video        0.0000\n",
       "18              Games        0.0000\n",
       "37                 9+        0.0000\n",
       "14          Education       -0.0000\n",
       "12           Business       -0.0000\n",
       "10            vpp_lic        0.0000\n",
       "31             Travel        0.0001\n",
       "3    rating_count_tot        0.0017\n",
       "2               price        0.0049\n",
       "33            Weather        0.0067\n",
       "24               News        0.0077\n",
       "17       Food & Drink        0.0108\n",
       "22              Music        0.0120\n",
       "29  Social Networking        0.0146\n",
       "15      Entertainment        0.0152\n",
       "23         Navigation        0.0203\n",
       "1            currency        0.0232\n",
       "8     ipadSc_urls.num        0.0308\n",
       "7     sup_devices.num        0.0365\n",
       "26       Productivity        0.0393\n",
       "6     user_rating_ver        0.0899\n",
       "4    rating_count_ver        1.1297"
      ]
     },
     "execution_count": 20,
     "metadata": {},
     "output_type": "execute_result"
    }
   ],
   "source": [
    "pd.DataFrame({'variable': features, f'_coefficient': gs.best_estimator_.coef_}).sort_values(by=f'_coefficient')"
   ]
  },
  {
   "cell_type": "code",
   "execution_count": 21,
   "metadata": {},
   "outputs": [
    {
     "data": {
      "text/plain": [
       "RidgeCV(alphas=(0.1, 1.0, 10.0), cv=3, fit_intercept=True, gcv_mode=None,\n",
       "    normalize=False, scoring=None, store_cv_values=False)"
      ]
     },
     "execution_count": 21,
     "metadata": {},
     "output_type": "execute_result"
    }
   ],
   "source": [
    "RidgeCV(cv=3)"
   ]
  },
  {
   "cell_type": "code",
   "execution_count": 22,
   "metadata": {},
   "outputs": [
    {
     "name": "stdout",
     "output_type": "stream",
     "text": [
      "Fitting 3 folds for each of 1 candidates, totalling 3 fits\n",
      "[CV] alphas=(0.1, 1, 10) .............................................\n",
      "[CV] .............................. alphas=(0.1, 1, 10), total=   0.1s\n",
      "[CV] alphas=(0.1, 1, 10) .............................................\n",
      "[CV] .............................. alphas=(0.1, 1, 10), total=   0.0s\n",
      "[CV] alphas=(0.1, 1, 10) .............................................\n",
      "[CV] .............................. alphas=(0.1, 1, 10), total=   0.0s\n"
     ]
    },
    {
     "name": "stderr",
     "output_type": "stream",
     "text": [
      "[Parallel(n_jobs=1)]: Done   1 out of   1 | elapsed:    0.1s remaining:    0.0s\n",
      "[Parallel(n_jobs=1)]: Done   3 out of   3 | elapsed:    0.1s finished\n"
     ]
    },
    {
     "data": {
      "text/plain": [
       "GridSearchCV(cv=3, error_score='raise',\n",
       "       estimator=RidgeCV(alphas=(0.1, 1.0, 10.0), cv=None, fit_intercept=True, gcv_mode=None,\n",
       "    normalize=False, scoring=None, store_cv_values=False),\n",
       "       fit_params=None, iid=True, n_jobs=1,\n",
       "       param_grid={'alphas': [(0.1, 1, 10)]}, pre_dispatch='2*n_jobs',\n",
       "       refit=True, return_train_score='warn', scoring=None, verbose=2)"
      ]
     },
     "execution_count": 22,
     "metadata": {},
     "output_type": "execute_result"
    }
   ],
   "source": [
    "params_grid={\n",
    "        'alphas':[(0.1, 1, 10)]\n",
    "            }\n",
    "np.random.seed(42)\n",
    "gs = GridSearchCV(RidgeCV(), params_grid, verbose=2, cv=3)\n",
    "gs.fit(X_train, y_train)"
   ]
  },
  {
   "cell_type": "code",
   "execution_count": 23,
   "metadata": {},
   "outputs": [
    {
     "data": {
      "text/plain": [
       "RidgeCV(alphas=(0.1, 1, 10), cv=None, fit_intercept=True, gcv_mode=None,\n",
       "    normalize=False, scoring=None, store_cv_values=False)"
      ]
     },
     "execution_count": 23,
     "metadata": {},
     "output_type": "execute_result"
    }
   ],
   "source": [
    "gs.best_estimator_"
   ]
  },
  {
   "cell_type": "code",
   "execution_count": 24,
   "metadata": {},
   "outputs": [
    {
     "data": {
      "text/plain": [
       "-735632.3703271607"
      ]
     },
     "execution_count": 24,
     "metadata": {},
     "output_type": "execute_result"
    }
   ],
   "source": [
    "gs.best_score_"
   ]
  },
  {
   "cell_type": "code",
   "execution_count": 25,
   "metadata": {},
   "outputs": [
    {
     "data": {
      "text/plain": [
       "array([ 1.19394849e-06,  5.51815575e-03,  1.72450409e-07,  2.90411438e-06,\n",
       "        6.30492146e-01, -6.92280592e-03,  5.29935348e-02,  5.15369508e-03,\n",
       "        3.92152263e-01, -2.47349169e-01,  3.87086642e-02, -3.04192460e-01,\n",
       "       -5.33646725e-02, -1.20343014e-01, -8.43750984e-02,  2.37387929e-01,\n",
       "       -1.28928574e-01,  1.06358161e-01,  5.48223337e-02, -1.50983570e-01,\n",
       "       -7.12718531e-02, -1.07337289e-01,  1.71926454e-01,  1.06632275e-01,\n",
       "        7.51603156e-02,  2.06541870e-02,  3.39287091e-01, -8.02697680e-02,\n",
       "       -6.41985758e-02,  1.97633886e-01, -8.66742587e-03,  7.27101721e-02,\n",
       "        0.00000000e+00,  4.71705849e-02, -2.75470370e-02, -2.32325364e-02,\n",
       "        3.60898854e-03,  0.00000000e+00])"
      ]
     },
     "execution_count": 25,
     "metadata": {},
     "output_type": "execute_result"
    }
   ],
   "source": [
    "gs.best_estimator_.coef_"
   ]
  },
  {
   "cell_type": "code",
   "execution_count": 26,
   "metadata": {},
   "outputs": [
    {
     "data": {
      "text/plain": [
       "LassoCV(alphas=None, copy_X=True, cv=None, eps=0.001, fit_intercept=True,\n",
       "    max_iter=1000, n_alphas=100, n_jobs=1, normalize=False, positive=False,\n",
       "    precompute='auto', random_state=None, selection='cyclic', tol=0.0001,\n",
       "    verbose=False)"
      ]
     },
     "execution_count": 26,
     "metadata": {},
     "output_type": "execute_result"
    }
   ],
   "source": [
    "LassoCV()"
   ]
  },
  {
   "cell_type": "code",
   "execution_count": 27,
   "metadata": {},
   "outputs": [
    {
     "name": "stdout",
     "output_type": "stream",
     "text": [
      "Fitting 3 folds for each of 1 candidates, totalling 3 fits\n",
      "[CV] alphas=(0.1, 1, 10) .............................................\n",
      "[CV] .............................. alphas=(0.1, 1, 10), total=   0.0s\n",
      "[CV] alphas=(0.1, 1, 10) .............................................\n",
      "[CV] .............................. alphas=(0.1, 1, 10), total=   0.0s\n",
      "[CV] alphas=(0.1, 1, 10) .............................................\n",
      "[CV] .............................. alphas=(0.1, 1, 10), total=   0.0s\n"
     ]
    },
    {
     "name": "stderr",
     "output_type": "stream",
     "text": [
      "[Parallel(n_jobs=1)]: Done   1 out of   1 | elapsed:    0.0s remaining:    0.0s\n",
      "[Parallel(n_jobs=1)]: Done   3 out of   3 | elapsed:    0.1s finished\n"
     ]
    },
    {
     "data": {
      "text/plain": [
       "GridSearchCV(cv=3, error_score='raise',\n",
       "       estimator=LassoCV(alphas=None, copy_X=True, cv=None, eps=0.001, fit_intercept=True,\n",
       "    max_iter=1000, n_alphas=100, n_jobs=1, normalize=False, positive=False,\n",
       "    precompute='auto', random_state=None, selection='cyclic', tol=0.0001,\n",
       "    verbose=False),\n",
       "       fit_params=None, iid=True, n_jobs=1,\n",
       "       param_grid={'alphas': [(0.1, 1, 10)]}, pre_dispatch='2*n_jobs',\n",
       "       refit=True, return_train_score='warn', scoring=None, verbose=2)"
      ]
     },
     "execution_count": 27,
     "metadata": {},
     "output_type": "execute_result"
    }
   ],
   "source": [
    "params_grid={\n",
    "        'alphas':[(0.1, 1, 10)]\n",
    "            }\n",
    "gs = GridSearchCV(LassoCV(), params_grid, verbose=2, cv=3)\n",
    "gs.fit(X_train, y_train)"
   ]
  },
  {
   "cell_type": "code",
   "execution_count": 28,
   "metadata": {},
   "outputs": [
    {
     "data": {
      "text/plain": [
       "LassoCV(alphas=(0.1, 1, 10), copy_X=True, cv=None, eps=0.001,\n",
       "    fit_intercept=True, max_iter=1000, n_alphas=100, n_jobs=1,\n",
       "    normalize=False, positive=False, precompute='auto', random_state=None,\n",
       "    selection='cyclic', tol=0.0001, verbose=False)"
      ]
     },
     "execution_count": 28,
     "metadata": {},
     "output_type": "execute_result"
    }
   ],
   "source": [
    "gs.best_estimator_"
   ]
  },
  {
   "cell_type": "code",
   "execution_count": 29,
   "metadata": {},
   "outputs": [
    {
     "data": {
      "text/plain": [
       "0.6022999478089462"
      ]
     },
     "execution_count": 29,
     "metadata": {},
     "output_type": "execute_result"
    }
   ],
   "source": [
    "gs.best_score_"
   ]
  },
  {
   "cell_type": "code",
   "execution_count": 30,
   "metadata": {},
   "outputs": [
    {
     "data": {
      "text/plain": [
       "array([-2.74834453e-11,  3.99943835e-03,  2.08418061e-07,  3.78582470e-06,\n",
       "        6.05101762e-01, -4.34293592e-03,  2.33829199e-02,  6.73890472e-03,\n",
       "        0.00000000e+00, -0.00000000e+00,  0.00000000e+00, -0.00000000e+00,\n",
       "        0.00000000e+00, -0.00000000e+00, -0.00000000e+00,  0.00000000e+00,\n",
       "       -0.00000000e+00,  0.00000000e+00,  0.00000000e+00, -0.00000000e+00,\n",
       "        0.00000000e+00, -0.00000000e+00,  0.00000000e+00,  0.00000000e+00,\n",
       "        0.00000000e+00,  0.00000000e+00,  0.00000000e+00, -0.00000000e+00,\n",
       "       -0.00000000e+00,  0.00000000e+00,  0.00000000e+00,  0.00000000e+00,\n",
       "        0.00000000e+00,  0.00000000e+00, -0.00000000e+00,  0.00000000e+00,\n",
       "       -0.00000000e+00,  0.00000000e+00])"
      ]
     },
     "execution_count": 30,
     "metadata": {},
     "output_type": "execute_result"
    }
   ],
   "source": [
    "gs.best_estimator_.coef_"
   ]
  },
  {
   "cell_type": "code",
   "execution_count": 31,
   "metadata": {},
   "outputs": [
    {
     "data": {
      "text/html": [
       "<div>\n",
       "<style scoped>\n",
       "    .dataframe tbody tr th:only-of-type {\n",
       "        vertical-align: middle;\n",
       "    }\n",
       "\n",
       "    .dataframe tbody tr th {\n",
       "        vertical-align: top;\n",
       "    }\n",
       "\n",
       "    .dataframe thead th {\n",
       "        text-align: right;\n",
       "    }\n",
       "</style>\n",
       "<table border=\"1\" class=\"dataframe\">\n",
       "  <thead>\n",
       "    <tr style=\"text-align: right;\">\n",
       "      <th></th>\n",
       "      <th>variable</th>\n",
       "      <th>_coefficient</th>\n",
       "    </tr>\n",
       "  </thead>\n",
       "  <tbody>\n",
       "    <tr>\n",
       "      <th>5</th>\n",
       "      <td>user_rating</td>\n",
       "      <td>-0.0043</td>\n",
       "    </tr>\n",
       "    <tr>\n",
       "      <th>0</th>\n",
       "      <td>size_bytes</td>\n",
       "      <td>-0.0000</td>\n",
       "    </tr>\n",
       "    <tr>\n",
       "      <th>21</th>\n",
       "      <td>Medical</td>\n",
       "      <td>-0.0000</td>\n",
       "    </tr>\n",
       "    <tr>\n",
       "      <th>22</th>\n",
       "      <td>Music</td>\n",
       "      <td>0.0000</td>\n",
       "    </tr>\n",
       "    <tr>\n",
       "      <th>23</th>\n",
       "      <td>Navigation</td>\n",
       "      <td>0.0000</td>\n",
       "    </tr>\n",
       "    <tr>\n",
       "      <th>24</th>\n",
       "      <td>News</td>\n",
       "      <td>0.0000</td>\n",
       "    </tr>\n",
       "    <tr>\n",
       "      <th>25</th>\n",
       "      <td>Photo &amp; Video</td>\n",
       "      <td>0.0000</td>\n",
       "    </tr>\n",
       "    <tr>\n",
       "      <th>26</th>\n",
       "      <td>Productivity</td>\n",
       "      <td>0.0000</td>\n",
       "    </tr>\n",
       "    <tr>\n",
       "      <th>27</th>\n",
       "      <td>Reference</td>\n",
       "      <td>-0.0000</td>\n",
       "    </tr>\n",
       "    <tr>\n",
       "      <th>28</th>\n",
       "      <td>Shopping</td>\n",
       "      <td>-0.0000</td>\n",
       "    </tr>\n",
       "    <tr>\n",
       "      <th>29</th>\n",
       "      <td>Social Networking</td>\n",
       "      <td>0.0000</td>\n",
       "    </tr>\n",
       "    <tr>\n",
       "      <th>30</th>\n",
       "      <td>Sports</td>\n",
       "      <td>0.0000</td>\n",
       "    </tr>\n",
       "    <tr>\n",
       "      <th>31</th>\n",
       "      <td>Travel</td>\n",
       "      <td>0.0000</td>\n",
       "    </tr>\n",
       "    <tr>\n",
       "      <th>32</th>\n",
       "      <td>Utilities</td>\n",
       "      <td>0.0000</td>\n",
       "    </tr>\n",
       "    <tr>\n",
       "      <th>33</th>\n",
       "      <td>Weather</td>\n",
       "      <td>0.0000</td>\n",
       "    </tr>\n",
       "    <tr>\n",
       "      <th>34</th>\n",
       "      <td>12+</td>\n",
       "      <td>-0.0000</td>\n",
       "    </tr>\n",
       "    <tr>\n",
       "      <th>35</th>\n",
       "      <td>17+</td>\n",
       "      <td>0.0000</td>\n",
       "    </tr>\n",
       "    <tr>\n",
       "      <th>20</th>\n",
       "      <td>Lifestyle</td>\n",
       "      <td>0.0000</td>\n",
       "    </tr>\n",
       "    <tr>\n",
       "      <th>19</th>\n",
       "      <td>Health &amp; Fitness</td>\n",
       "      <td>-0.0000</td>\n",
       "    </tr>\n",
       "    <tr>\n",
       "      <th>18</th>\n",
       "      <td>Games</td>\n",
       "      <td>0.0000</td>\n",
       "    </tr>\n",
       "    <tr>\n",
       "      <th>17</th>\n",
       "      <td>Food &amp; Drink</td>\n",
       "      <td>0.0000</td>\n",
       "    </tr>\n",
       "    <tr>\n",
       "      <th>8</th>\n",
       "      <td>ipadSc_urls.num</td>\n",
       "      <td>0.0000</td>\n",
       "    </tr>\n",
       "    <tr>\n",
       "      <th>36</th>\n",
       "      <td>4+</td>\n",
       "      <td>-0.0000</td>\n",
       "    </tr>\n",
       "    <tr>\n",
       "      <th>10</th>\n",
       "      <td>vpp_lic</td>\n",
       "      <td>0.0000</td>\n",
       "    </tr>\n",
       "    <tr>\n",
       "      <th>11</th>\n",
       "      <td>Book</td>\n",
       "      <td>-0.0000</td>\n",
       "    </tr>\n",
       "    <tr>\n",
       "      <th>9</th>\n",
       "      <td>lang.num</td>\n",
       "      <td>-0.0000</td>\n",
       "    </tr>\n",
       "    <tr>\n",
       "      <th>13</th>\n",
       "      <td>Catalogs</td>\n",
       "      <td>-0.0000</td>\n",
       "    </tr>\n",
       "    <tr>\n",
       "      <th>14</th>\n",
       "      <td>Education</td>\n",
       "      <td>-0.0000</td>\n",
       "    </tr>\n",
       "    <tr>\n",
       "      <th>15</th>\n",
       "      <td>Entertainment</td>\n",
       "      <td>0.0000</td>\n",
       "    </tr>\n",
       "    <tr>\n",
       "      <th>16</th>\n",
       "      <td>Finance</td>\n",
       "      <td>-0.0000</td>\n",
       "    </tr>\n",
       "    <tr>\n",
       "      <th>12</th>\n",
       "      <td>Business</td>\n",
       "      <td>0.0000</td>\n",
       "    </tr>\n",
       "    <tr>\n",
       "      <th>37</th>\n",
       "      <td>9+</td>\n",
       "      <td>0.0000</td>\n",
       "    </tr>\n",
       "    <tr>\n",
       "      <th>2</th>\n",
       "      <td>price</td>\n",
       "      <td>0.0000</td>\n",
       "    </tr>\n",
       "    <tr>\n",
       "      <th>3</th>\n",
       "      <td>rating_count_tot</td>\n",
       "      <td>0.0000</td>\n",
       "    </tr>\n",
       "    <tr>\n",
       "      <th>1</th>\n",
       "      <td>currency</td>\n",
       "      <td>0.0040</td>\n",
       "    </tr>\n",
       "    <tr>\n",
       "      <th>7</th>\n",
       "      <td>sup_devices.num</td>\n",
       "      <td>0.0067</td>\n",
       "    </tr>\n",
       "    <tr>\n",
       "      <th>6</th>\n",
       "      <td>user_rating_ver</td>\n",
       "      <td>0.0234</td>\n",
       "    </tr>\n",
       "    <tr>\n",
       "      <th>4</th>\n",
       "      <td>rating_count_ver</td>\n",
       "      <td>0.6051</td>\n",
       "    </tr>\n",
       "  </tbody>\n",
       "</table>\n",
       "</div>"
      ],
      "text/plain": [
       "             variable  _coefficient\n",
       "5         user_rating       -0.0043\n",
       "0          size_bytes       -0.0000\n",
       "21            Medical       -0.0000\n",
       "22              Music        0.0000\n",
       "23         Navigation        0.0000\n",
       "24               News        0.0000\n",
       "25      Photo & Video        0.0000\n",
       "26       Productivity        0.0000\n",
       "27          Reference       -0.0000\n",
       "28           Shopping       -0.0000\n",
       "29  Social Networking        0.0000\n",
       "30             Sports        0.0000\n",
       "31             Travel        0.0000\n",
       "32          Utilities        0.0000\n",
       "33            Weather        0.0000\n",
       "34                12+       -0.0000\n",
       "35                17+        0.0000\n",
       "20          Lifestyle        0.0000\n",
       "19   Health & Fitness       -0.0000\n",
       "18              Games        0.0000\n",
       "17       Food & Drink        0.0000\n",
       "8     ipadSc_urls.num        0.0000\n",
       "36                 4+       -0.0000\n",
       "10            vpp_lic        0.0000\n",
       "11               Book       -0.0000\n",
       "9            lang.num       -0.0000\n",
       "13           Catalogs       -0.0000\n",
       "14          Education       -0.0000\n",
       "15      Entertainment        0.0000\n",
       "16            Finance       -0.0000\n",
       "12           Business        0.0000\n",
       "37                 9+        0.0000\n",
       "2               price        0.0000\n",
       "3    rating_count_tot        0.0000\n",
       "1            currency        0.0040\n",
       "7     sup_devices.num        0.0067\n",
       "6     user_rating_ver        0.0234\n",
       "4    rating_count_ver        0.6051"
      ]
     },
     "execution_count": 31,
     "metadata": {},
     "output_type": "execute_result"
    }
   ],
   "source": [
    "pd.DataFrame({'variable': features, f'_coefficient': gs.best_estimator_.coef_}).sort_values(by=f'_coefficient')"
   ]
  },
  {
   "cell_type": "markdown",
   "metadata": {},
   "source": [
    "### Now with Pipelines"
   ]
  },
  {
   "cell_type": "code",
   "execution_count": 32,
   "metadata": {},
   "outputs": [],
   "source": [
    "pipe = Pipeline([\n",
    "    ('ss', StandardScaler()),\n",
    "    ('svr', SVR())\n",
    "])"
   ]
  },
  {
   "cell_type": "code",
   "execution_count": 33,
   "metadata": {},
   "outputs": [],
   "source": [
    "params_grid={\n",
    "    'ss__with_mean':[True, False],\n",
    "    'ss__with_std':[True, False],\n",
    "    'svr__C': [0.1, 1, 5], \n",
    "    'svr__kernel':['rbf', 'linear', 'poly']\n",
    "    }"
   ]
  },
  {
   "cell_type": "code",
   "execution_count": 34,
   "metadata": {},
   "outputs": [
    {
     "name": "stdout",
     "output_type": "stream",
     "text": [
      "Fitting 3 folds for each of 36 candidates, totalling 108 fits\n",
      "[CV] ss__with_mean=True, ss__with_std=True, svr__C=0.1, svr__kernel=rbf \n",
      "[CV]  ss__with_mean=True, ss__with_std=True, svr__C=0.1, svr__kernel=rbf, total=   0.9s\n",
      "[CV] ss__with_mean=True, ss__with_std=True, svr__C=0.1, svr__kernel=rbf \n"
     ]
    },
    {
     "name": "stderr",
     "output_type": "stream",
     "text": [
      "[Parallel(n_jobs=1)]: Done   1 out of   1 | elapsed:    1.4s remaining:    0.0s\n"
     ]
    },
    {
     "name": "stdout",
     "output_type": "stream",
     "text": [
      "[CV]  ss__with_mean=True, ss__with_std=True, svr__C=0.1, svr__kernel=rbf, total=   0.9s\n",
      "[CV] ss__with_mean=True, ss__with_std=True, svr__C=0.1, svr__kernel=rbf \n",
      "[CV]  ss__with_mean=True, ss__with_std=True, svr__C=0.1, svr__kernel=rbf, total=   0.9s\n",
      "[CV] ss__with_mean=True, ss__with_std=True, svr__C=0.1, svr__kernel=linear \n",
      "[CV]  ss__with_mean=True, ss__with_std=True, svr__C=0.1, svr__kernel=linear, total=   0.8s\n",
      "[CV] ss__with_mean=True, ss__with_std=True, svr__C=0.1, svr__kernel=linear \n",
      "[CV]  ss__with_mean=True, ss__with_std=True, svr__C=0.1, svr__kernel=linear, total=   0.9s\n",
      "[CV] ss__with_mean=True, ss__with_std=True, svr__C=0.1, svr__kernel=linear \n",
      "[CV]  ss__with_mean=True, ss__with_std=True, svr__C=0.1, svr__kernel=linear, total=   0.9s\n",
      "[CV] ss__with_mean=True, ss__with_std=True, svr__C=0.1, svr__kernel=poly \n",
      "[CV]  ss__with_mean=True, ss__with_std=True, svr__C=0.1, svr__kernel=poly, total=   0.8s\n",
      "[CV] ss__with_mean=True, ss__with_std=True, svr__C=0.1, svr__kernel=poly \n",
      "[CV]  ss__with_mean=True, ss__with_std=True, svr__C=0.1, svr__kernel=poly, total=   0.8s\n",
      "[CV] ss__with_mean=True, ss__with_std=True, svr__C=0.1, svr__kernel=poly \n",
      "[CV]  ss__with_mean=True, ss__with_std=True, svr__C=0.1, svr__kernel=poly, total=   0.8s\n",
      "[CV] ss__with_mean=True, ss__with_std=True, svr__C=1, svr__kernel=rbf \n",
      "[CV]  ss__with_mean=True, ss__with_std=True, svr__C=1, svr__kernel=rbf, total=   0.8s\n",
      "[CV] ss__with_mean=True, ss__with_std=True, svr__C=1, svr__kernel=rbf \n",
      "[CV]  ss__with_mean=True, ss__with_std=True, svr__C=1, svr__kernel=rbf, total=   0.8s\n",
      "[CV] ss__with_mean=True, ss__with_std=True, svr__C=1, svr__kernel=rbf \n",
      "[CV]  ss__with_mean=True, ss__with_std=True, svr__C=1, svr__kernel=rbf, total=   0.9s\n",
      "[CV] ss__with_mean=True, ss__with_std=True, svr__C=1, svr__kernel=linear \n",
      "[CV]  ss__with_mean=True, ss__with_std=True, svr__C=1, svr__kernel=linear, total=   2.8s\n",
      "[CV] ss__with_mean=True, ss__with_std=True, svr__C=1, svr__kernel=linear \n",
      "[CV]  ss__with_mean=True, ss__with_std=True, svr__C=1, svr__kernel=linear, total=   3.0s\n",
      "[CV] ss__with_mean=True, ss__with_std=True, svr__C=1, svr__kernel=linear \n",
      "[CV]  ss__with_mean=True, ss__with_std=True, svr__C=1, svr__kernel=linear, total=   2.4s\n",
      "[CV] ss__with_mean=True, ss__with_std=True, svr__C=1, svr__kernel=poly \n",
      "[CV]  ss__with_mean=True, ss__with_std=True, svr__C=1, svr__kernel=poly, total=   0.9s\n",
      "[CV] ss__with_mean=True, ss__with_std=True, svr__C=1, svr__kernel=poly \n",
      "[CV]  ss__with_mean=True, ss__with_std=True, svr__C=1, svr__kernel=poly, total=   1.0s\n",
      "[CV] ss__with_mean=True, ss__with_std=True, svr__C=1, svr__kernel=poly \n",
      "[CV]  ss__with_mean=True, ss__with_std=True, svr__C=1, svr__kernel=poly, total=   0.9s\n",
      "[CV] ss__with_mean=True, ss__with_std=True, svr__C=5, svr__kernel=rbf \n",
      "[CV]  ss__with_mean=True, ss__with_std=True, svr__C=5, svr__kernel=rbf, total=   1.0s\n",
      "[CV] ss__with_mean=True, ss__with_std=True, svr__C=5, svr__kernel=rbf \n",
      "[CV]  ss__with_mean=True, ss__with_std=True, svr__C=5, svr__kernel=rbf, total=   1.0s\n",
      "[CV] ss__with_mean=True, ss__with_std=True, svr__C=5, svr__kernel=rbf \n",
      "[CV]  ss__with_mean=True, ss__with_std=True, svr__C=5, svr__kernel=rbf, total=   1.0s\n",
      "[CV] ss__with_mean=True, ss__with_std=True, svr__C=5, svr__kernel=linear \n",
      "[CV]  ss__with_mean=True, ss__with_std=True, svr__C=5, svr__kernel=linear, total=   9.7s\n",
      "[CV] ss__with_mean=True, ss__with_std=True, svr__C=5, svr__kernel=linear \n",
      "[CV]  ss__with_mean=True, ss__with_std=True, svr__C=5, svr__kernel=linear, total=  15.3s\n",
      "[CV] ss__with_mean=True, ss__with_std=True, svr__C=5, svr__kernel=linear \n",
      "[CV]  ss__with_mean=True, ss__with_std=True, svr__C=5, svr__kernel=linear, total=   8.7s\n",
      "[CV] ss__with_mean=True, ss__with_std=True, svr__C=5, svr__kernel=poly \n",
      "[CV]  ss__with_mean=True, ss__with_std=True, svr__C=5, svr__kernel=poly, total=   1.6s\n",
      "[CV] ss__with_mean=True, ss__with_std=True, svr__C=5, svr__kernel=poly \n",
      "[CV]  ss__with_mean=True, ss__with_std=True, svr__C=5, svr__kernel=poly, total=   1.4s\n",
      "[CV] ss__with_mean=True, ss__with_std=True, svr__C=5, svr__kernel=poly \n",
      "[CV]  ss__with_mean=True, ss__with_std=True, svr__C=5, svr__kernel=poly, total=   1.5s\n",
      "[CV] ss__with_mean=True, ss__with_std=False, svr__C=0.1, svr__kernel=rbf \n",
      "[CV]  ss__with_mean=True, ss__with_std=False, svr__C=0.1, svr__kernel=rbf, total=   0.8s\n",
      "[CV] ss__with_mean=True, ss__with_std=False, svr__C=0.1, svr__kernel=rbf \n",
      "[CV]  ss__with_mean=True, ss__with_std=False, svr__C=0.1, svr__kernel=rbf, total=   0.8s\n",
      "[CV] ss__with_mean=True, ss__with_std=False, svr__C=0.1, svr__kernel=rbf \n",
      "[CV]  ss__with_mean=True, ss__with_std=False, svr__C=0.1, svr__kernel=rbf, total=   0.8s\n",
      "[CV] ss__with_mean=True, ss__with_std=False, svr__C=0.1, svr__kernel=linear \n",
      "[CV]  ss__with_mean=True, ss__with_std=False, svr__C=0.1, svr__kernel=linear, total=   0.8s\n",
      "[CV] ss__with_mean=True, ss__with_std=False, svr__C=0.1, svr__kernel=linear \n",
      "[CV]  ss__with_mean=True, ss__with_std=False, svr__C=0.1, svr__kernel=linear, total=   0.8s\n",
      "[CV] ss__with_mean=True, ss__with_std=False, svr__C=0.1, svr__kernel=linear \n",
      "[CV]  ss__with_mean=True, ss__with_std=False, svr__C=0.1, svr__kernel=linear, total=   0.8s\n",
      "[CV] ss__with_mean=True, ss__with_std=False, svr__C=0.1, svr__kernel=poly \n",
      "[CV]  ss__with_mean=True, ss__with_std=False, svr__C=0.1, svr__kernel=poly, total=   0.8s\n",
      "[CV] ss__with_mean=True, ss__with_std=False, svr__C=0.1, svr__kernel=poly \n",
      "[CV]  ss__with_mean=True, ss__with_std=False, svr__C=0.1, svr__kernel=poly, total=   0.8s\n",
      "[CV] ss__with_mean=True, ss__with_std=False, svr__C=0.1, svr__kernel=poly \n",
      "[CV]  ss__with_mean=True, ss__with_std=False, svr__C=0.1, svr__kernel=poly, total=   0.8s\n",
      "[CV] ss__with_mean=True, ss__with_std=False, svr__C=1, svr__kernel=rbf \n",
      "[CV]  ss__with_mean=True, ss__with_std=False, svr__C=1, svr__kernel=rbf, total=   0.9s\n",
      "[CV] ss__with_mean=True, ss__with_std=False, svr__C=1, svr__kernel=rbf \n",
      "[CV]  ss__with_mean=True, ss__with_std=False, svr__C=1, svr__kernel=rbf, total=   0.9s\n",
      "[CV] ss__with_mean=True, ss__with_std=False, svr__C=1, svr__kernel=rbf \n",
      "[CV]  ss__with_mean=True, ss__with_std=False, svr__C=1, svr__kernel=rbf, total=   0.9s\n",
      "[CV] ss__with_mean=True, ss__with_std=False, svr__C=1, svr__kernel=linear \n",
      "[CV]  ss__with_mean=True, ss__with_std=False, svr__C=1, svr__kernel=linear, total=   2.6s\n",
      "[CV] ss__with_mean=True, ss__with_std=False, svr__C=1, svr__kernel=linear \n",
      "[CV]  ss__with_mean=True, ss__with_std=False, svr__C=1, svr__kernel=linear, total=   3.4s\n",
      "[CV] ss__with_mean=True, ss__with_std=False, svr__C=1, svr__kernel=linear \n",
      "[CV]  ss__with_mean=True, ss__with_std=False, svr__C=1, svr__kernel=linear, total=   3.1s\n",
      "[CV] ss__with_mean=True, ss__with_std=False, svr__C=1, svr__kernel=poly \n",
      "[CV]  ss__with_mean=True, ss__with_std=False, svr__C=1, svr__kernel=poly, total=   1.3s\n",
      "[CV] ss__with_mean=True, ss__with_std=False, svr__C=1, svr__kernel=poly \n",
      "[CV]  ss__with_mean=True, ss__with_std=False, svr__C=1, svr__kernel=poly, total=   1.2s\n",
      "[CV] ss__with_mean=True, ss__with_std=False, svr__C=1, svr__kernel=poly \n",
      "[CV]  ss__with_mean=True, ss__with_std=False, svr__C=1, svr__kernel=poly, total=   1.1s\n",
      "[CV] ss__with_mean=True, ss__with_std=False, svr__C=5, svr__kernel=rbf \n",
      "[CV]  ss__with_mean=True, ss__with_std=False, svr__C=5, svr__kernel=rbf, total=   1.2s\n",
      "[CV] ss__with_mean=True, ss__with_std=False, svr__C=5, svr__kernel=rbf \n",
      "[CV]  ss__with_mean=True, ss__with_std=False, svr__C=5, svr__kernel=rbf, total=   1.2s\n",
      "[CV] ss__with_mean=True, ss__with_std=False, svr__C=5, svr__kernel=rbf \n",
      "[CV]  ss__with_mean=True, ss__with_std=False, svr__C=5, svr__kernel=rbf, total=   1.2s\n",
      "[CV] ss__with_mean=True, ss__with_std=False, svr__C=5, svr__kernel=linear \n",
      "[CV]  ss__with_mean=True, ss__with_std=False, svr__C=5, svr__kernel=linear, total=  10.9s\n",
      "[CV] ss__with_mean=True, ss__with_std=False, svr__C=5, svr__kernel=linear \n",
      "[CV]  ss__with_mean=True, ss__with_std=False, svr__C=5, svr__kernel=linear, total=  14.5s\n",
      "[CV] ss__with_mean=True, ss__with_std=False, svr__C=5, svr__kernel=linear \n",
      "[CV]  ss__with_mean=True, ss__with_std=False, svr__C=5, svr__kernel=linear, total=   9.2s\n",
      "[CV] ss__with_mean=True, ss__with_std=False, svr__C=5, svr__kernel=poly \n",
      "[CV]  ss__with_mean=True, ss__with_std=False, svr__C=5, svr__kernel=poly, total=   1.4s\n",
      "[CV] ss__with_mean=True, ss__with_std=False, svr__C=5, svr__kernel=poly \n"
     ]
    },
    {
     "name": "stdout",
     "output_type": "stream",
     "text": [
      "[CV]  ss__with_mean=True, ss__with_std=False, svr__C=5, svr__kernel=poly, total=   1.7s\n",
      "[CV] ss__with_mean=True, ss__with_std=False, svr__C=5, svr__kernel=poly \n",
      "[CV]  ss__with_mean=True, ss__with_std=False, svr__C=5, svr__kernel=poly, total=   1.3s\n",
      "[CV] ss__with_mean=False, ss__with_std=True, svr__C=0.1, svr__kernel=rbf \n",
      "[CV]  ss__with_mean=False, ss__with_std=True, svr__C=0.1, svr__kernel=rbf, total=   0.9s\n",
      "[CV] ss__with_mean=False, ss__with_std=True, svr__C=0.1, svr__kernel=rbf \n",
      "[CV]  ss__with_mean=False, ss__with_std=True, svr__C=0.1, svr__kernel=rbf, total=   0.8s\n",
      "[CV] ss__with_mean=False, ss__with_std=True, svr__C=0.1, svr__kernel=rbf \n",
      "[CV]  ss__with_mean=False, ss__with_std=True, svr__C=0.1, svr__kernel=rbf, total=   0.8s\n",
      "[CV] ss__with_mean=False, ss__with_std=True, svr__C=0.1, svr__kernel=linear \n",
      "[CV]  ss__with_mean=False, ss__with_std=True, svr__C=0.1, svr__kernel=linear, total=   0.8s\n",
      "[CV] ss__with_mean=False, ss__with_std=True, svr__C=0.1, svr__kernel=linear \n",
      "[CV]  ss__with_mean=False, ss__with_std=True, svr__C=0.1, svr__kernel=linear, total=   0.9s\n",
      "[CV] ss__with_mean=False, ss__with_std=True, svr__C=0.1, svr__kernel=linear \n",
      "[CV]  ss__with_mean=False, ss__with_std=True, svr__C=0.1, svr__kernel=linear, total=   0.8s\n",
      "[CV] ss__with_mean=False, ss__with_std=True, svr__C=0.1, svr__kernel=poly \n",
      "[CV]  ss__with_mean=False, ss__with_std=True, svr__C=0.1, svr__kernel=poly, total=   0.8s\n",
      "[CV] ss__with_mean=False, ss__with_std=True, svr__C=0.1, svr__kernel=poly \n",
      "[CV]  ss__with_mean=False, ss__with_std=True, svr__C=0.1, svr__kernel=poly, total=   0.8s\n",
      "[CV] ss__with_mean=False, ss__with_std=True, svr__C=0.1, svr__kernel=poly \n",
      "[CV]  ss__with_mean=False, ss__with_std=True, svr__C=0.1, svr__kernel=poly, total=   0.8s\n",
      "[CV] ss__with_mean=False, ss__with_std=True, svr__C=1, svr__kernel=rbf \n",
      "[CV]  ss__with_mean=False, ss__with_std=True, svr__C=1, svr__kernel=rbf, total=   0.8s\n",
      "[CV] ss__with_mean=False, ss__with_std=True, svr__C=1, svr__kernel=rbf \n",
      "[CV]  ss__with_mean=False, ss__with_std=True, svr__C=1, svr__kernel=rbf, total=   0.8s\n",
      "[CV] ss__with_mean=False, ss__with_std=True, svr__C=1, svr__kernel=rbf \n",
      "[CV]  ss__with_mean=False, ss__with_std=True, svr__C=1, svr__kernel=rbf, total=   0.8s\n",
      "[CV] ss__with_mean=False, ss__with_std=True, svr__C=1, svr__kernel=linear \n",
      "[CV]  ss__with_mean=False, ss__with_std=True, svr__C=1, svr__kernel=linear, total=   2.6s\n",
      "[CV] ss__with_mean=False, ss__with_std=True, svr__C=1, svr__kernel=linear \n",
      "[CV]  ss__with_mean=False, ss__with_std=True, svr__C=1, svr__kernel=linear, total=   3.2s\n",
      "[CV] ss__with_mean=False, ss__with_std=True, svr__C=1, svr__kernel=linear \n",
      "[CV]  ss__with_mean=False, ss__with_std=True, svr__C=1, svr__kernel=linear, total=   2.3s\n",
      "[CV] ss__with_mean=False, ss__with_std=True, svr__C=1, svr__kernel=poly \n",
      "[CV]  ss__with_mean=False, ss__with_std=True, svr__C=1, svr__kernel=poly, total=   0.9s\n",
      "[CV] ss__with_mean=False, ss__with_std=True, svr__C=1, svr__kernel=poly \n",
      "[CV]  ss__with_mean=False, ss__with_std=True, svr__C=1, svr__kernel=poly, total=   1.0s\n",
      "[CV] ss__with_mean=False, ss__with_std=True, svr__C=1, svr__kernel=poly \n",
      "[CV]  ss__with_mean=False, ss__with_std=True, svr__C=1, svr__kernel=poly, total=   0.9s\n",
      "[CV] ss__with_mean=False, ss__with_std=True, svr__C=5, svr__kernel=rbf \n",
      "[CV]  ss__with_mean=False, ss__with_std=True, svr__C=5, svr__kernel=rbf, total=   0.9s\n",
      "[CV] ss__with_mean=False, ss__with_std=True, svr__C=5, svr__kernel=rbf \n",
      "[CV]  ss__with_mean=False, ss__with_std=True, svr__C=5, svr__kernel=rbf, total=   0.9s\n",
      "[CV] ss__with_mean=False, ss__with_std=True, svr__C=5, svr__kernel=rbf \n",
      "[CV]  ss__with_mean=False, ss__with_std=True, svr__C=5, svr__kernel=rbf, total=   0.9s\n",
      "[CV] ss__with_mean=False, ss__with_std=True, svr__C=5, svr__kernel=linear \n",
      "[CV]  ss__with_mean=False, ss__with_std=True, svr__C=5, svr__kernel=linear, total=   9.2s\n",
      "[CV] ss__with_mean=False, ss__with_std=True, svr__C=5, svr__kernel=linear \n",
      "[CV]  ss__with_mean=False, ss__with_std=True, svr__C=5, svr__kernel=linear, total=  10.7s\n",
      "[CV] ss__with_mean=False, ss__with_std=True, svr__C=5, svr__kernel=linear \n",
      "[CV]  ss__with_mean=False, ss__with_std=True, svr__C=5, svr__kernel=linear, total=   8.9s\n",
      "[CV] ss__with_mean=False, ss__with_std=True, svr__C=5, svr__kernel=poly \n",
      "[CV]  ss__with_mean=False, ss__with_std=True, svr__C=5, svr__kernel=poly, total=   1.3s\n",
      "[CV] ss__with_mean=False, ss__with_std=True, svr__C=5, svr__kernel=poly \n",
      "[CV]  ss__with_mean=False, ss__with_std=True, svr__C=5, svr__kernel=poly, total=   1.3s\n",
      "[CV] ss__with_mean=False, ss__with_std=True, svr__C=5, svr__kernel=poly \n",
      "[CV]  ss__with_mean=False, ss__with_std=True, svr__C=5, svr__kernel=poly, total=   1.4s\n",
      "[CV] ss__with_mean=False, ss__with_std=False, svr__C=0.1, svr__kernel=rbf \n",
      "[CV]  ss__with_mean=False, ss__with_std=False, svr__C=0.1, svr__kernel=rbf, total=   0.9s\n",
      "[CV] ss__with_mean=False, ss__with_std=False, svr__C=0.1, svr__kernel=rbf \n",
      "[CV]  ss__with_mean=False, ss__with_std=False, svr__C=0.1, svr__kernel=rbf, total=   0.8s\n",
      "[CV] ss__with_mean=False, ss__with_std=False, svr__C=0.1, svr__kernel=rbf \n",
      "[CV]  ss__with_mean=False, ss__with_std=False, svr__C=0.1, svr__kernel=rbf, total=   0.8s\n",
      "[CV] ss__with_mean=False, ss__with_std=False, svr__C=0.1, svr__kernel=linear \n",
      "[CV]  ss__with_mean=False, ss__with_std=False, svr__C=0.1, svr__kernel=linear, total=   0.8s\n",
      "[CV] ss__with_mean=False, ss__with_std=False, svr__C=0.1, svr__kernel=linear \n",
      "[CV]  ss__with_mean=False, ss__with_std=False, svr__C=0.1, svr__kernel=linear, total=   0.9s\n",
      "[CV] ss__with_mean=False, ss__with_std=False, svr__C=0.1, svr__kernel=linear \n",
      "[CV]  ss__with_mean=False, ss__with_std=False, svr__C=0.1, svr__kernel=linear, total=   0.8s\n",
      "[CV] ss__with_mean=False, ss__with_std=False, svr__C=0.1, svr__kernel=poly \n",
      "[CV]  ss__with_mean=False, ss__with_std=False, svr__C=0.1, svr__kernel=poly, total=   0.9s\n",
      "[CV] ss__with_mean=False, ss__with_std=False, svr__C=0.1, svr__kernel=poly \n",
      "[CV]  ss__with_mean=False, ss__with_std=False, svr__C=0.1, svr__kernel=poly, total=   0.9s\n",
      "[CV] ss__with_mean=False, ss__with_std=False, svr__C=0.1, svr__kernel=poly \n",
      "[CV]  ss__with_mean=False, ss__with_std=False, svr__C=0.1, svr__kernel=poly, total=   0.9s\n",
      "[CV] ss__with_mean=False, ss__with_std=False, svr__C=1, svr__kernel=rbf \n",
      "[CV]  ss__with_mean=False, ss__with_std=False, svr__C=1, svr__kernel=rbf, total=   0.9s\n",
      "[CV] ss__with_mean=False, ss__with_std=False, svr__C=1, svr__kernel=rbf \n",
      "[CV]  ss__with_mean=False, ss__with_std=False, svr__C=1, svr__kernel=rbf, total=   0.9s\n",
      "[CV] ss__with_mean=False, ss__with_std=False, svr__C=1, svr__kernel=rbf \n",
      "[CV]  ss__with_mean=False, ss__with_std=False, svr__C=1, svr__kernel=rbf, total=   0.8s\n",
      "[CV] ss__with_mean=False, ss__with_std=False, svr__C=1, svr__kernel=linear \n",
      "[CV]  ss__with_mean=False, ss__with_std=False, svr__C=1, svr__kernel=linear, total=   2.6s\n",
      "[CV] ss__with_mean=False, ss__with_std=False, svr__C=1, svr__kernel=linear \n",
      "[CV]  ss__with_mean=False, ss__with_std=False, svr__C=1, svr__kernel=linear, total=   3.2s\n",
      "[CV] ss__with_mean=False, ss__with_std=False, svr__C=1, svr__kernel=linear \n",
      "[CV]  ss__with_mean=False, ss__with_std=False, svr__C=1, svr__kernel=linear, total=   2.3s\n",
      "[CV] ss__with_mean=False, ss__with_std=False, svr__C=1, svr__kernel=poly \n",
      "[CV]  ss__with_mean=False, ss__with_std=False, svr__C=1, svr__kernel=poly, total=   1.0s\n",
      "[CV] ss__with_mean=False, ss__with_std=False, svr__C=1, svr__kernel=poly \n",
      "[CV]  ss__with_mean=False, ss__with_std=False, svr__C=1, svr__kernel=poly, total=   1.1s\n",
      "[CV] ss__with_mean=False, ss__with_std=False, svr__C=1, svr__kernel=poly \n",
      "[CV]  ss__with_mean=False, ss__with_std=False, svr__C=1, svr__kernel=poly, total=   0.9s\n",
      "[CV] ss__with_mean=False, ss__with_std=False, svr__C=5, svr__kernel=rbf \n",
      "[CV]  ss__with_mean=False, ss__with_std=False, svr__C=5, svr__kernel=rbf, total=   1.0s\n",
      "[CV] ss__with_mean=False, ss__with_std=False, svr__C=5, svr__kernel=rbf \n",
      "[CV]  ss__with_mean=False, ss__with_std=False, svr__C=5, svr__kernel=rbf, total=   1.0s\n",
      "[CV] ss__with_mean=False, ss__with_std=False, svr__C=5, svr__kernel=rbf \n",
      "[CV]  ss__with_mean=False, ss__with_std=False, svr__C=5, svr__kernel=rbf, total=   0.9s\n",
      "[CV] ss__with_mean=False, ss__with_std=False, svr__C=5, svr__kernel=linear \n",
      "[CV]  ss__with_mean=False, ss__with_std=False, svr__C=5, svr__kernel=linear, total=   9.4s\n",
      "[CV] ss__with_mean=False, ss__with_std=False, svr__C=5, svr__kernel=linear \n"
     ]
    },
    {
     "name": "stdout",
     "output_type": "stream",
     "text": [
      "[CV]  ss__with_mean=False, ss__with_std=False, svr__C=5, svr__kernel=linear, total=  11.2s\n",
      "[CV] ss__with_mean=False, ss__with_std=False, svr__C=5, svr__kernel=linear \n",
      "[CV]  ss__with_mean=False, ss__with_std=False, svr__C=5, svr__kernel=linear, total=   8.2s\n",
      "[CV] ss__with_mean=False, ss__with_std=False, svr__C=5, svr__kernel=poly \n",
      "[CV]  ss__with_mean=False, ss__with_std=False, svr__C=5, svr__kernel=poly, total=   1.2s\n",
      "[CV] ss__with_mean=False, ss__with_std=False, svr__C=5, svr__kernel=poly \n",
      "[CV]  ss__with_mean=False, ss__with_std=False, svr__C=5, svr__kernel=poly, total=   1.3s\n",
      "[CV] ss__with_mean=False, ss__with_std=False, svr__C=5, svr__kernel=poly \n",
      "[CV]  ss__with_mean=False, ss__with_std=False, svr__C=5, svr__kernel=poly, total=   1.3s\n"
     ]
    },
    {
     "name": "stderr",
     "output_type": "stream",
     "text": [
      "[Parallel(n_jobs=1)]: Done 108 out of 108 | elapsed:  4.7min finished\n"
     ]
    },
    {
     "data": {
      "text/plain": [
       "GridSearchCV(cv=None, error_score='raise',\n",
       "       estimator=Pipeline(memory=None,\n",
       "     steps=[('ss', StandardScaler(copy=True, with_mean=True, with_std=True)), ('svr', SVR(C=1.0, cache_size=200, coef0=0.0, degree=3, epsilon=0.1, gamma='auto',\n",
       "  kernel='rbf', max_iter=-1, shrinking=True, tol=0.001, verbose=False))]),\n",
       "       fit_params=None, iid=True, n_jobs=1,\n",
       "       param_grid={'ss__with_mean': [True, False], 'ss__with_std': [True, False], 'svr__C': [0.1, 1, 5], 'svr__kernel': ['rbf', 'linear', 'poly']},\n",
       "       pre_dispatch='2*n_jobs', refit=True, return_train_score='warn',\n",
       "       scoring=None, verbose=2)"
      ]
     },
     "execution_count": 34,
     "metadata": {},
     "output_type": "execute_result"
    }
   ],
   "source": [
    "gs = GridSearchCV(pipe, params_grid, verbose=2)\n",
    "gs.fit(X_train_s, y_train)"
   ]
  },
  {
   "cell_type": "code",
   "execution_count": 35,
   "metadata": {},
   "outputs": [
    {
     "data": {
      "text/plain": [
       "Pipeline(memory=None,\n",
       "     steps=[('ss', StandardScaler(copy=True, with_mean=True, with_std=False)), ('svr', SVR(C=1, cache_size=200, coef0=0.0, degree=3, epsilon=0.1, gamma='auto',\n",
       "  kernel='rbf', max_iter=-1, shrinking=True, tol=0.001, verbose=False))])"
      ]
     },
     "execution_count": 35,
     "metadata": {},
     "output_type": "execute_result"
    }
   ],
   "source": [
    "gs.best_estimator_"
   ]
  },
  {
   "cell_type": "code",
   "execution_count": 36,
   "metadata": {},
   "outputs": [
    {
     "data": {
      "text/plain": [
       "0.5731354044819255"
      ]
     },
     "execution_count": 36,
     "metadata": {},
     "output_type": "execute_result"
    }
   ],
   "source": [
    "gs.best_score_"
   ]
  },
  {
   "cell_type": "code",
   "execution_count": 37,
   "metadata": {},
   "outputs": [
    {
     "data": {
      "text/plain": [
       "{'ss__with_mean': True,\n",
       " 'ss__with_std': False,\n",
       " 'svr__C': 1,\n",
       " 'svr__kernel': 'rbf'}"
      ]
     },
     "execution_count": 37,
     "metadata": {},
     "output_type": "execute_result"
    }
   ],
   "source": [
    "gs.best_params_"
   ]
  },
  {
   "cell_type": "code",
   "execution_count": null,
   "metadata": {},
   "outputs": [],
   "source": []
  },
  {
   "cell_type": "code",
   "execution_count": null,
   "metadata": {},
   "outputs": [],
   "source": []
  }
 ],
 "metadata": {
  "kernelspec": {
   "display_name": "Python 3",
   "language": "python",
   "name": "python3"
  },
  "language_info": {
   "codemirror_mode": {
    "name": "ipython",
    "version": 3
   },
   "file_extension": ".py",
   "mimetype": "text/x-python",
   "name": "python",
   "nbconvert_exporter": "python",
   "pygments_lexer": "ipython3",
   "version": "3.6.4"
  }
 },
 "nbformat": 4,
 "nbformat_minor": 2
}

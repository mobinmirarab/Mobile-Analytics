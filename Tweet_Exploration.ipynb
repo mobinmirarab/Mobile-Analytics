{
  "nbformat": 4,
  "nbformat_minor": 0,
  "metadata": {
    "colab": {
      "name": "Tweet_Exploration.ipynb",
      "version": "0.3.2",
      "provenance": [],
      "collapsed_sections": [],
      "include_colab_link": true
    },
    "kernelspec": {
      "display_name": "Python 3",
      "language": "python",
      "name": "python3"
    }
  },
  "cells": [
    {
      "cell_type": "markdown",
      "metadata": {
        "id": "view-in-github",
        "colab_type": "text"
      },
      "source": [
        "[![Open In Colab](https://colab.research.google.com/assets/colab-badge.svg)](https://colab.research.google.com/github/ruchigarg-DS/Mobile-Analytics/blob/master/Tweet_Exploration.ipynb)"
      ]
    },
    {
      "metadata": {
        "id": "1PcC7q2Ws6O3",
        "colab_type": "code",
        "colab": {}
      },
      "cell_type": "code",
      "source": [
        "import pandas as pd\n",
        "import numpy as np"
      ],
      "execution_count": 0,
      "outputs": []
    },
    {
      "metadata": {
        "id": "VMApdfjuBazY",
        "colab_type": "code",
        "outputId": "4f1ce8c0-8d29-4899-b39e-b50aca142f3e",
        "colab": {
          "base_uri": "https://localhost:8080/",
          "height": 537
        }
      },
      "cell_type": "code",
      "source": [
        "#get files\n",
        "\n",
        "#You will need to change the file id after the &id in the link below and also change the filename field to the corresponding file\n",
        "\n",
        "\n",
        "#File1 = 1BkJXUuLda3kAzfDxScGFUdqKUNdKP9p_   tweets_1h_dd.csv\n",
        "#File2 = 1giS8vKLR6AhD0Or0Q1ag9O5xEPuvd5JP   tweets_2h_dd.csv\n",
        "#File3 = 1wP07WjjujIZmUCAXGTgz2p7vZIgTjXQL   tweets_3h_dd.csv\n",
        "\n",
        "filename = \"tweets_1h_dd.csv\"\n",
        "!wget \"https://drive.google.com/uc?export=download&id=1BkJXUuLda3kAzfDxScGFUdqKUNdKP9p_\" -O \"tweet_data.zip\"\n",
        "!unzip \"tweet_data.zip\"\n",
        "!ls"
      ],
      "execution_count": 2,
      "outputs": [
        {
          "output_type": "stream",
          "text": [
            "--2018-10-17 23:11:07--  https://drive.google.com/uc?export=download&id=1BkJXUuLda3kAzfDxScGFUdqKUNdKP9p_\n",
            "Resolving drive.google.com (drive.google.com)... 172.217.193.113, 172.217.193.138, 172.217.193.102, ...\n",
            "Connecting to drive.google.com (drive.google.com)|172.217.193.113|:443... connected.\n",
            "HTTP request sent, awaiting response... 302 Moved Temporarily\n",
            "Location: https://doc-0c-88-docs.googleusercontent.com/docs/securesc/ha0ro937gcuc7l7deffksulhg5h7mbp1/593fu6ild29teenktdctgd9qjklc6m8c/1539813600000/10846168993139288126/*/1BkJXUuLda3kAzfDxScGFUdqKUNdKP9p_?e=download [following]\n",
            "Warning: wildcards not supported in HTTP.\n",
            "--2018-10-17 23:11:08--  https://doc-0c-88-docs.googleusercontent.com/docs/securesc/ha0ro937gcuc7l7deffksulhg5h7mbp1/593fu6ild29teenktdctgd9qjklc6m8c/1539813600000/10846168993139288126/*/1BkJXUuLda3kAzfDxScGFUdqKUNdKP9p_?e=download\n",
            "Resolving doc-0c-88-docs.googleusercontent.com (doc-0c-88-docs.googleusercontent.com)... 173.194.210.132, 2607:f8b0:400c:c0f::84\n",
            "Connecting to doc-0c-88-docs.googleusercontent.com (doc-0c-88-docs.googleusercontent.com)|173.194.210.132|:443... connected.\n",
            "HTTP request sent, awaiting response... 200 OK\n",
            "Length: unspecified [application/zip]\n",
            "Saving to: ‘tweet_data.zip’\n",
            "\n",
            "tweet_data.zip          [ <=>                ]   4.40M  --.-KB/s    in 0.04s   \n",
            "\n",
            "2018-10-17 23:11:08 (125 MB/s) - ‘tweet_data.zip’ saved [4609191]\n",
            "\n",
            "Archive:  tweet_data.zip\n",
            "replace tweets_1h_dd.csv? [y]es, [n]o, [A]ll, [N]one, [r]ename: n\n",
            "sample_data  tweet_data.zip  tweets_1h_dd.csv\n"
          ],
          "name": "stdout"
        }
      ]
    },
    {
      "metadata": {
        "id": "VAJE7UVBs6O9",
        "colab_type": "code",
        "outputId": "292dc489-4a76-48b4-feec-28b0ee140643",
        "colab": {
          "base_uri": "https://localhost:8080/",
          "height": 91
        }
      },
      "cell_type": "code",
      "source": [
        "data = pd.read_csv(filename)"
      ],
      "execution_count": 0,
      "outputs": [
        {
          "output_type": "stream",
          "text": [
            "/usr/local/lib/python3.6/dist-packages/IPython/core/interactiveshell.py:2718: DtypeWarning: Columns (0,6,7,8,9) have mixed types. Specify dtype option on import or set low_memory=False.\n",
            "  interactivity=interactivity, compiler=compiler, result=result)\n"
          ],
          "name": "stderr"
        }
      ]
    },
    {
      "metadata": {
        "id": "76DJbfBcs6PD",
        "colab_type": "code",
        "outputId": "e93b475a-df64-4acf-fcba-e6f6c8c89918",
        "colab": {
          "base_uri": "https://localhost:8080/",
          "height": 289
        }
      },
      "cell_type": "code",
      "source": [
        "data.describe()"
      ],
      "execution_count": 0,
      "outputs": [
        {
          "output_type": "execute_result",
          "data": {
            "text/html": [
              "<div>\n",
              "<style scoped>\n",
              "    .dataframe tbody tr th:only-of-type {\n",
              "        vertical-align: middle;\n",
              "    }\n",
              "\n",
              "    .dataframe tbody tr th {\n",
              "        vertical-align: top;\n",
              "    }\n",
              "\n",
              "    .dataframe thead th {\n",
              "        text-align: right;\n",
              "    }\n",
              "</style>\n",
              "<table border=\"1\" class=\"dataframe\">\n",
              "  <thead>\n",
              "    <tr style=\"text-align: right;\">\n",
              "      <th></th>\n",
              "      <th>Unnamed: 0</th>\n",
              "      <th>created_at</th>\n",
              "      <th>text</th>\n",
              "      <th>geo</th>\n",
              "      <th>coordinates</th>\n",
              "      <th>place</th>\n",
              "      <th>retweet_count</th>\n",
              "      <th>favorite_count</th>\n",
              "      <th>favorited</th>\n",
              "      <th>retweeted</th>\n",
              "    </tr>\n",
              "  </thead>\n",
              "  <tbody>\n",
              "    <tr>\n",
              "      <th>0</th>\n",
              "      <td>1049811737908793344</td>\n",
              "      <td>2018-10-09 23:59:57</td>\n",
              "      <td>RT @DJPTPLAYA3: What Poppin In The City Tonigh...</td>\n",
              "      <td>NaN</td>\n",
              "      <td>NaN</td>\n",
              "      <td>NaN</td>\n",
              "      <td>1</td>\n",
              "      <td>0</td>\n",
              "      <td>False</td>\n",
              "      <td>False</td>\n",
              "    </tr>\n",
              "    <tr>\n",
              "      <th>1</th>\n",
              "      <td>1049811724474421250</td>\n",
              "      <td>2018-10-09 23:59:54</td>\n",
              "      <td>RT @TRAW2RAW: The same thing happens in ATL du...</td>\n",
              "      <td>NaN</td>\n",
              "      <td>NaN</td>\n",
              "      <td>NaN</td>\n",
              "      <td>297</td>\n",
              "      <td>0</td>\n",
              "      <td>False</td>\n",
              "      <td>False</td>\n",
              "    </tr>\n",
              "    <tr>\n",
              "      <th>2</th>\n",
              "      <td>1049811715335094272</td>\n",
              "      <td>2018-10-09 23:59:52</td>\n",
              "      <td>RT @redostoneage: 7 Hoax Papers Expose The Wes...</td>\n",
              "      <td>NaN</td>\n",
              "      <td>NaN</td>\n",
              "      <td>NaN</td>\n",
              "      <td>1</td>\n",
              "      <td>0</td>\n",
              "      <td>False</td>\n",
              "      <td>False</td>\n",
              "    </tr>\n",
              "    <tr>\n",
              "      <th>3</th>\n",
              "      <td>1049811684699729920</td>\n",
              "      <td>2018-10-09 23:59:44</td>\n",
              "      <td>@TheRealBigBen23 @TheHerd @ColinCowherd Oh yea...</td>\n",
              "      <td>NaN</td>\n",
              "      <td>NaN</td>\n",
              "      <td>NaN</td>\n",
              "      <td>0</td>\n",
              "      <td>0</td>\n",
              "      <td>False</td>\n",
              "      <td>False</td>\n",
              "    </tr>\n",
              "    <tr>\n",
              "      <th>4</th>\n",
              "      <td>1049811682846040072</td>\n",
              "      <td>2018-10-09 23:59:44</td>\n",
              "      <td>RT @TheAAF: .@AafLegends Adds.. well, more Leg...</td>\n",
              "      <td>NaN</td>\n",
              "      <td>NaN</td>\n",
              "      <td>NaN</td>\n",
              "      <td>77</td>\n",
              "      <td>0</td>\n",
              "      <td>False</td>\n",
              "      <td>False</td>\n",
              "    </tr>\n",
              "  </tbody>\n",
              "</table>\n",
              "</div>"
            ],
            "text/plain": [
              "            Unnamed: 0           created_at  \\\n",
              "0  1049811737908793344  2018-10-09 23:59:57   \n",
              "1  1049811724474421250  2018-10-09 23:59:54   \n",
              "2  1049811715335094272  2018-10-09 23:59:52   \n",
              "3  1049811684699729920  2018-10-09 23:59:44   \n",
              "4  1049811682846040072  2018-10-09 23:59:44   \n",
              "\n",
              "                                                text  geo coordinates place  \\\n",
              "0  RT @DJPTPLAYA3: What Poppin In The City Tonigh...  NaN         NaN   NaN   \n",
              "1  RT @TRAW2RAW: The same thing happens in ATL du...  NaN         NaN   NaN   \n",
              "2  RT @redostoneage: 7 Hoax Papers Expose The Wes...  NaN         NaN   NaN   \n",
              "3  @TheRealBigBen23 @TheHerd @ColinCowherd Oh yea...  NaN         NaN   NaN   \n",
              "4  RT @TheAAF: .@AafLegends Adds.. well, more Leg...  NaN         NaN   NaN   \n",
              "\n",
              "  retweet_count favorite_count favorited retweeted  \n",
              "0             1              0     False     False  \n",
              "1           297              0     False     False  \n",
              "2             1              0     False     False  \n",
              "3             0              0     False     False  \n",
              "4            77              0     False     False  "
            ]
          },
          "metadata": {
            "tags": []
          },
          "execution_count": 5
        }
      ]
    },
    {
      "metadata": {
        "id": "ZbIaAK8js6PK",
        "colab_type": "code",
        "outputId": "050d65ec-06c4-4669-db64-342727ecbd66",
        "colab": {
          "base_uri": "https://localhost:8080/",
          "height": 289
        }
      },
      "cell_type": "code",
      "source": [
        "data.head()"
      ],
      "execution_count": 0,
      "outputs": [
        {
          "output_type": "execute_result",
          "data": {
            "text/html": [
              "<div>\n",
              "<style scoped>\n",
              "    .dataframe tbody tr th:only-of-type {\n",
              "        vertical-align: middle;\n",
              "    }\n",
              "\n",
              "    .dataframe tbody tr th {\n",
              "        vertical-align: top;\n",
              "    }\n",
              "\n",
              "    .dataframe thead th {\n",
              "        text-align: right;\n",
              "    }\n",
              "</style>\n",
              "<table border=\"1\" class=\"dataframe\">\n",
              "  <thead>\n",
              "    <tr style=\"text-align: right;\">\n",
              "      <th></th>\n",
              "      <th>Unnamed: 0</th>\n",
              "      <th>created_at</th>\n",
              "      <th>text</th>\n",
              "      <th>geo</th>\n",
              "      <th>coordinates</th>\n",
              "      <th>place</th>\n",
              "      <th>retweet_count</th>\n",
              "      <th>favorite_count</th>\n",
              "      <th>favorited</th>\n",
              "      <th>retweeted</th>\n",
              "    </tr>\n",
              "  </thead>\n",
              "  <tbody>\n",
              "    <tr>\n",
              "      <th>0</th>\n",
              "      <td>1049811737908793344</td>\n",
              "      <td>2018-10-09 23:59:57</td>\n",
              "      <td>RT @DJPTPLAYA3: What Poppin In The City Tonigh...</td>\n",
              "      <td>NaN</td>\n",
              "      <td>NaN</td>\n",
              "      <td>NaN</td>\n",
              "      <td>1</td>\n",
              "      <td>0</td>\n",
              "      <td>False</td>\n",
              "      <td>False</td>\n",
              "    </tr>\n",
              "    <tr>\n",
              "      <th>1</th>\n",
              "      <td>1049811724474421250</td>\n",
              "      <td>2018-10-09 23:59:54</td>\n",
              "      <td>RT @TRAW2RAW: The same thing happens in ATL du...</td>\n",
              "      <td>NaN</td>\n",
              "      <td>NaN</td>\n",
              "      <td>NaN</td>\n",
              "      <td>297</td>\n",
              "      <td>0</td>\n",
              "      <td>False</td>\n",
              "      <td>False</td>\n",
              "    </tr>\n",
              "    <tr>\n",
              "      <th>2</th>\n",
              "      <td>1049811715335094272</td>\n",
              "      <td>2018-10-09 23:59:52</td>\n",
              "      <td>RT @redostoneage: 7 Hoax Papers Expose The Wes...</td>\n",
              "      <td>NaN</td>\n",
              "      <td>NaN</td>\n",
              "      <td>NaN</td>\n",
              "      <td>1</td>\n",
              "      <td>0</td>\n",
              "      <td>False</td>\n",
              "      <td>False</td>\n",
              "    </tr>\n",
              "    <tr>\n",
              "      <th>3</th>\n",
              "      <td>1049811684699729920</td>\n",
              "      <td>2018-10-09 23:59:44</td>\n",
              "      <td>@TheRealBigBen23 @TheHerd @ColinCowherd Oh yea...</td>\n",
              "      <td>NaN</td>\n",
              "      <td>NaN</td>\n",
              "      <td>NaN</td>\n",
              "      <td>0</td>\n",
              "      <td>0</td>\n",
              "      <td>False</td>\n",
              "      <td>False</td>\n",
              "    </tr>\n",
              "    <tr>\n",
              "      <th>4</th>\n",
              "      <td>1049811682846040072</td>\n",
              "      <td>2018-10-09 23:59:44</td>\n",
              "      <td>RT @TheAAF: .@AafLegends Adds.. well, more Leg...</td>\n",
              "      <td>NaN</td>\n",
              "      <td>NaN</td>\n",
              "      <td>NaN</td>\n",
              "      <td>77</td>\n",
              "      <td>0</td>\n",
              "      <td>False</td>\n",
              "      <td>False</td>\n",
              "    </tr>\n",
              "  </tbody>\n",
              "</table>\n",
              "</div>"
            ],
            "text/plain": [
              "            Unnamed: 0           created_at  \\\n",
              "0  1049811737908793344  2018-10-09 23:59:57   \n",
              "1  1049811724474421250  2018-10-09 23:59:54   \n",
              "2  1049811715335094272  2018-10-09 23:59:52   \n",
              "3  1049811684699729920  2018-10-09 23:59:44   \n",
              "4  1049811682846040072  2018-10-09 23:59:44   \n",
              "\n",
              "                                                text  geo coordinates place  \\\n",
              "0  RT @DJPTPLAYA3: What Poppin In The City Tonigh...  NaN         NaN   NaN   \n",
              "1  RT @TRAW2RAW: The same thing happens in ATL du...  NaN         NaN   NaN   \n",
              "2  RT @redostoneage: 7 Hoax Papers Expose The Wes...  NaN         NaN   NaN   \n",
              "3  @TheRealBigBen23 @TheHerd @ColinCowherd Oh yea...  NaN         NaN   NaN   \n",
              "4  RT @TheAAF: .@AafLegends Adds.. well, more Leg...  NaN         NaN   NaN   \n",
              "\n",
              "  retweet_count favorite_count favorited retweeted  \n",
              "0             1              0     False     False  \n",
              "1           297              0     False     False  \n",
              "2             1              0     False     False  \n",
              "3             0              0     False     False  \n",
              "4            77              0     False     False  "
            ]
          },
          "metadata": {
            "tags": []
          },
          "execution_count": 6
        }
      ]
    },
    {
      "metadata": {
        "id": "XEYObPH5B12v",
        "colab_type": "text"
      },
      "cell_type": "markdown",
      "source": [
        "Questions to ask:\n",
        "\n",
        "\n",
        "\n",
        "*   Which tweets are most liked/retweeted?\n",
        "\n",
        "*   Do you a trend in topics for the most popular tweets?\n",
        "\n",
        "*   What areas are most active for that topic (look at coordinates)?\n",
        "\n",
        "*   Deep dive into other topics you see. Can you search the text for similar items?\n",
        "\n",
        "\n",
        "*   Can you extract the hashtags from the text?\n",
        "\n"
      ]
    },
    {
      "metadata": {
        "id": "zGJGlooaB1Dy",
        "colab_type": "text"
      },
      "cell_type": "markdown",
      "source": [
        ""
      ]
    }
  ]
}